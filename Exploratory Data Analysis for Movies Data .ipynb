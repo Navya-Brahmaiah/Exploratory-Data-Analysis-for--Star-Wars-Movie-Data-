{
 "cells": [
  {
   "cell_type": "code",
   "execution_count": null,
   "metadata": {},
   "outputs": [],
   "source": [
    "#Task 1: Data Preparation"
   ]
  },
  {
   "cell_type": "code",
   "execution_count": 1,
   "metadata": {},
   "outputs": [],
   "source": [
    "import numpy as np\n",
    "import pandas as pd"
   ]
  },
  {
   "cell_type": "code",
   "execution_count": 2,
   "metadata": {},
   "outputs": [],
   "source": [
    "#Task 1.1: Data Retrieving"
   ]
  },
  {
   "cell_type": "code",
   "execution_count": 3,
   "metadata": {},
   "outputs": [],
   "source": [
    "starwarsdf = pd.read_csv(\"StarWars.csv\",encoding=\"ISO-8859-1\")"
   ]
  },
  {
   "cell_type": "code",
   "execution_count": 4,
   "metadata": {},
   "outputs": [
    {
     "data": {
      "text/plain": [
       "(1187, 38)"
      ]
     },
     "execution_count": 4,
     "metadata": {},
     "output_type": "execute_result"
    }
   ],
   "source": [
    "starwarsdf.shape"
   ]
  },
  {
   "cell_type": "code",
   "execution_count": 5,
   "metadata": {},
   "outputs": [
    {
     "data": {
      "text/html": [
       "<div>\n",
       "<style scoped>\n",
       "    .dataframe tbody tr th:only-of-type {\n",
       "        vertical-align: middle;\n",
       "    }\n",
       "\n",
       "    .dataframe tbody tr th {\n",
       "        vertical-align: top;\n",
       "    }\n",
       "\n",
       "    .dataframe thead th {\n",
       "        text-align: right;\n",
       "    }\n",
       "</style>\n",
       "<table border=\"1\" class=\"dataframe\">\n",
       "  <thead>\n",
       "    <tr style=\"text-align: right;\">\n",
       "      <th></th>\n",
       "      <th>RespondentID</th>\n",
       "      <th>Have you seen any of the 6 films in the Star Wars franchise?</th>\n",
       "      <th>Do you consider yourself to be a fan of the Star Wars film franchise?</th>\n",
       "      <th>Which of the following Star Wars films have you seen? Please select all that apply.</th>\n",
       "      <th>Unnamed: 4</th>\n",
       "      <th>Unnamed: 5</th>\n",
       "      <th>Unnamed: 6</th>\n",
       "      <th>Unnamed: 7</th>\n",
       "      <th>Unnamed: 8</th>\n",
       "      <th>Please rank the Star Wars films in order of preference with 1 being your favorite film in the franchise and 6 being your least favorite film.</th>\n",
       "      <th>...</th>\n",
       "      <th>Unnamed: 28</th>\n",
       "      <th>Which character shot first?</th>\n",
       "      <th>Are you familiar with the Expanded Universe?</th>\n",
       "      <th>Do you consider yourself to be a fan of the Expanded Universe?æ</th>\n",
       "      <th>Do you consider yourself to be a fan of the Star Trek franchise?</th>\n",
       "      <th>Gender</th>\n",
       "      <th>Age</th>\n",
       "      <th>Household Income</th>\n",
       "      <th>Education</th>\n",
       "      <th>Location (Census Region)</th>\n",
       "    </tr>\n",
       "  </thead>\n",
       "  <tbody>\n",
       "    <tr>\n",
       "      <th>0</th>\n",
       "      <td>NaN</td>\n",
       "      <td>Response</td>\n",
       "      <td>Response</td>\n",
       "      <td>Star Wars: Episode I  The Phantom Menace</td>\n",
       "      <td>Star Wars: Episode II  Attack of the Clones</td>\n",
       "      <td>Star Wars: Episode III  Revenge of the Sith</td>\n",
       "      <td>Star Wars: Episode IV  A New Hope</td>\n",
       "      <td>Star Wars: Episode V The Empire Strikes Back</td>\n",
       "      <td>Star Wars: Episode VI Return of the Jedi</td>\n",
       "      <td>Star Wars: Episode I  The Phantom Menace</td>\n",
       "      <td>...</td>\n",
       "      <td>Yoda</td>\n",
       "      <td>Response</td>\n",
       "      <td>Response</td>\n",
       "      <td>Response</td>\n",
       "      <td>Response</td>\n",
       "      <td>Response</td>\n",
       "      <td>Response</td>\n",
       "      <td>Response</td>\n",
       "      <td>Response</td>\n",
       "      <td>Response</td>\n",
       "    </tr>\n",
       "    <tr>\n",
       "      <th>1</th>\n",
       "      <td>3.292880e+09</td>\n",
       "      <td>Yes</td>\n",
       "      <td>Yes</td>\n",
       "      <td>Star Wars: Episode I  The Phantom Menace</td>\n",
       "      <td>Star Wars: Episode II  Attack of the Clones</td>\n",
       "      <td>Star Wars: Episode III  Revenge of the Sith</td>\n",
       "      <td>Star Wars: Episode IV  A New Hope</td>\n",
       "      <td>Star Wars: Episode V The Empire Strikes Back</td>\n",
       "      <td>Star Wars: Episode VI Return of the Jedi</td>\n",
       "      <td>3</td>\n",
       "      <td>...</td>\n",
       "      <td>Very favorably</td>\n",
       "      <td>I don't understand this question</td>\n",
       "      <td>Yes</td>\n",
       "      <td>No</td>\n",
       "      <td>No</td>\n",
       "      <td>Male</td>\n",
       "      <td>18-29</td>\n",
       "      <td>NaN</td>\n",
       "      <td>High school degree</td>\n",
       "      <td>South Atlantic</td>\n",
       "    </tr>\n",
       "  </tbody>\n",
       "</table>\n",
       "<p>2 rows × 38 columns</p>\n",
       "</div>"
      ],
      "text/plain": [
       "   RespondentID Have you seen any of the 6 films in the Star Wars franchise?  \\\n",
       "0           NaN                                           Response             \n",
       "1  3.292880e+09                                                Yes             \n",
       "\n",
       "  Do you consider yourself to be a fan of the Star Wars film franchise?  \\\n",
       "0                                           Response                      \n",
       "1                                                Yes                      \n",
       "\n",
       "  Which of the following Star Wars films have you seen? Please select all that apply.  \\\n",
       "0           Star Wars: Episode I  The Phantom Menace                                    \n",
       "1           Star Wars: Episode I  The Phantom Menace                                    \n",
       "\n",
       "                                    Unnamed: 4  \\\n",
       "0  Star Wars: Episode II  Attack of the Clones   \n",
       "1  Star Wars: Episode II  Attack of the Clones   \n",
       "\n",
       "                                    Unnamed: 5  \\\n",
       "0  Star Wars: Episode III  Revenge of the Sith   \n",
       "1  Star Wars: Episode III  Revenge of the Sith   \n",
       "\n",
       "                          Unnamed: 6  \\\n",
       "0  Star Wars: Episode IV  A New Hope   \n",
       "1  Star Wars: Episode IV  A New Hope   \n",
       "\n",
       "                                     Unnamed: 7  \\\n",
       "0  Star Wars: Episode V The Empire Strikes Back   \n",
       "1  Star Wars: Episode V The Empire Strikes Back   \n",
       "\n",
       "                                 Unnamed: 8  \\\n",
       "0  Star Wars: Episode VI Return of the Jedi   \n",
       "1  Star Wars: Episode VI Return of the Jedi   \n",
       "\n",
       "  Please rank the Star Wars films in order of preference with 1 being your favorite film in the franchise and 6 being your least favorite film.  \\\n",
       "0           Star Wars: Episode I  The Phantom Menace                                                                                              \n",
       "1                                                  3                                                                                              \n",
       "\n",
       "   ...     Unnamed: 28       Which character shot first?  \\\n",
       "0  ...            Yoda                          Response   \n",
       "1  ...  Very favorably  I don't understand this question   \n",
       "\n",
       "  Are you familiar with the Expanded Universe?  \\\n",
       "0                                     Response   \n",
       "1                                          Yes   \n",
       "\n",
       "  Do you consider yourself to be a fan of the Expanded Universe?æ  \\\n",
       "0                                           Response                 \n",
       "1                                                 No                 \n",
       "\n",
       "  Do you consider yourself to be a fan of the Star Trek franchise?    Gender  \\\n",
       "0                                           Response                Response   \n",
       "1                                                 No                    Male   \n",
       "\n",
       "        Age Household Income           Education Location (Census Region)  \n",
       "0  Response         Response            Response                 Response  \n",
       "1     18-29              NaN  High school degree           South Atlantic  \n",
       "\n",
       "[2 rows x 38 columns]"
      ]
     },
     "execution_count": 5,
     "metadata": {},
     "output_type": "execute_result"
    }
   ],
   "source": [
    "starwarsdf.head(2)"
   ]
  },
  {
   "cell_type": "code",
   "execution_count": 6,
   "metadata": {},
   "outputs": [],
   "source": [
    "#Task 1.2: Check data types"
   ]
  },
  {
   "cell_type": "code",
   "execution_count": 7,
   "metadata": {},
   "outputs": [
    {
     "data": {
      "text/plain": [
       "RespondentID                                                                                                                                     float64\n",
       "Have you seen any of the 6 films in the Star Wars franchise?                                                                                      object\n",
       "Do you consider yourself to be a fan of the Star Wars film franchise?                                                                             object\n",
       "Which of the following Star Wars films have you seen? Please select all that apply.                                                               object\n",
       "Unnamed: 4                                                                                                                                        object\n",
       "Unnamed: 5                                                                                                                                        object\n",
       "Unnamed: 6                                                                                                                                        object\n",
       "Unnamed: 7                                                                                                                                        object\n",
       "Unnamed: 8                                                                                                                                        object\n",
       "Please rank the Star Wars films in order of preference with 1 being your favorite film in the franchise and 6 being your least favorite film.     object\n",
       "Unnamed: 10                                                                                                                                       object\n",
       "Unnamed: 11                                                                                                                                       object\n",
       "Unnamed: 12                                                                                                                                       object\n",
       "Unnamed: 13                                                                                                                                       object\n",
       "Unnamed: 14                                                                                                                                       object\n",
       "Please state whether you view the following characters favorably, unfavorably, or are unfamiliar with him/her.                                    object\n",
       "Unnamed: 16                                                                                                                                       object\n",
       "Unnamed: 17                                                                                                                                       object\n",
       "Unnamed: 18                                                                                                                                       object\n",
       "Unnamed: 19                                                                                                                                       object\n",
       "Unnamed: 20                                                                                                                                       object\n",
       "Unnamed: 21                                                                                                                                       object\n",
       "Unnamed: 22                                                                                                                                       object\n",
       "Unnamed: 23                                                                                                                                       object\n",
       "Unnamed: 24                                                                                                                                       object\n",
       "Unnamed: 25                                                                                                                                       object\n",
       "Unnamed: 26                                                                                                                                       object\n",
       "Unnamed: 27                                                                                                                                       object\n",
       "Unnamed: 28                                                                                                                                       object\n",
       "Which character shot first?                                                                                                                       object\n",
       "Are you familiar with the Expanded Universe?                                                                                                      object\n",
       "Do you consider yourself to be a fan of the Expanded Universe?æ                                                                                  object\n",
       "Do you consider yourself to be a fan of the Star Trek franchise?                                                                                  object\n",
       "Gender                                                                                                                                            object\n",
       "Age                                                                                                                                               object\n",
       "Household Income                                                                                                                                  object\n",
       "Education                                                                                                                                         object\n",
       "Location (Census Region)                                                                                                                          object\n",
       "dtype: object"
      ]
     },
     "execution_count": 7,
     "metadata": {},
     "output_type": "execute_result"
    }
   ],
   "source": [
    "starwarsdf.dtypes"
   ]
  },
  {
   "cell_type": "code",
   "execution_count": 8,
   "metadata": {},
   "outputs": [],
   "source": [
    "#Task 1.3: Typos"
   ]
  },
  {
   "cell_type": "code",
   "execution_count": 9,
   "metadata": {},
   "outputs": [
    {
     "data": {
      "text/plain": [
       "Yes         551\n",
       "NaN         350\n",
       "No          283\n",
       "Yess          1\n",
       "Noo           1\n",
       "Response      1\n",
       "Name: Do you consider yourself to be a fan of the Star Wars film franchise?, dtype: int64"
      ]
     },
     "execution_count": 9,
     "metadata": {},
     "output_type": "execute_result"
    }
   ],
   "source": [
    "starwarsdf[\"Do you consider yourself to be a fan of the Star Wars film franchise?\"].value_counts(dropna=False)"
   ]
  },
  {
   "cell_type": "code",
   "execution_count": 10,
   "metadata": {},
   "outputs": [],
   "source": [
    "starwarsdf = starwarsdf.replace('Yess', 'Yes')\n",
    "starwarsdf = starwarsdf.replace('Noo', 'No')"
   ]
  },
  {
   "cell_type": "code",
   "execution_count": 11,
   "metadata": {},
   "outputs": [
    {
     "data": {
      "text/plain": [
       "Yes         552\n",
       "NaN         350\n",
       "No          284\n",
       "Response      1\n",
       "Name: Do you consider yourself to be a fan of the Star Wars film franchise?, dtype: int64"
      ]
     },
     "execution_count": 11,
     "metadata": {},
     "output_type": "execute_result"
    }
   ],
   "source": [
    "starwarsdf[\"Do you consider yourself to be a fan of the Star Wars film franchise?\"].value_counts(dropna=False)"
   ]
  },
  {
   "cell_type": "code",
   "execution_count": 12,
   "metadata": {},
   "outputs": [
    {
     "data": {
      "text/plain": [
       "Yes         935\n",
       "No          250\n",
       "Yes           1\n",
       "Response      1\n",
       "Name: Have you seen any of the 6 films in the Star Wars franchise?, dtype: int64"
      ]
     },
     "execution_count": 12,
     "metadata": {},
     "output_type": "execute_result"
    }
   ],
   "source": [
    "starwarsdf[\"Have you seen any of the 6 films in the Star Wars franchise?\"].value_counts(dropna=False)"
   ]
  },
  {
   "cell_type": "code",
   "execution_count": 13,
   "metadata": {},
   "outputs": [],
   "source": [
    "starwarsdf = starwarsdf.replace('Yes ', 'Yes')"
   ]
  },
  {
   "cell_type": "code",
   "execution_count": 14,
   "metadata": {},
   "outputs": [
    {
     "data": {
      "text/plain": [
       "Yes         936\n",
       "No          250\n",
       "Response      1\n",
       "Name: Have you seen any of the 6 films in the Star Wars franchise?, dtype: int64"
      ]
     },
     "execution_count": 14,
     "metadata": {},
     "output_type": "execute_result"
    }
   ],
   "source": [
    "starwarsdf[\"Have you seen any of the 6 films in the Star Wars franchise?\"].value_counts(dropna=False)"
   ]
  },
  {
   "cell_type": "code",
   "execution_count": 15,
   "metadata": {},
   "outputs": [
    {
     "data": {
      "text/plain": [
       "Female      546\n",
       "Male        496\n",
       "NaN         140\n",
       "female        2\n",
       "F             1\n",
       "male          1\n",
       "Response      1\n",
       "Name: Gender, dtype: int64"
      ]
     },
     "execution_count": 15,
     "metadata": {},
     "output_type": "execute_result"
    }
   ],
   "source": [
    "starwarsdf['Gender'].value_counts(dropna=False)"
   ]
  },
  {
   "cell_type": "code",
   "execution_count": 16,
   "metadata": {},
   "outputs": [],
   "source": [
    "starwarsdf = starwarsdf.replace('F', 'Female')\n",
    "starwarsdf = starwarsdf.replace('male', 'Male')\n",
    "starwarsdf = starwarsdf.replace('female', 'Female')"
   ]
  },
  {
   "cell_type": "code",
   "execution_count": 17,
   "metadata": {},
   "outputs": [
    {
     "data": {
      "text/plain": [
       "Female      549\n",
       "Male        497\n",
       "NaN         140\n",
       "Response      1\n",
       "Name: Gender, dtype: int64"
      ]
     },
     "execution_count": 17,
     "metadata": {},
     "output_type": "execute_result"
    }
   ],
   "source": [
    "starwarsdf['Gender'].value_counts(dropna=False)"
   ]
  },
  {
   "cell_type": "code",
   "execution_count": 18,
   "metadata": {},
   "outputs": [],
   "source": [
    "#1.4: Extra-whitespaces"
   ]
  },
  {
   "cell_type": "code",
   "execution_count": 19,
   "metadata": {
    "scrolled": true
   },
   "outputs": [],
   "source": [
    "s=starwarsdf.select_dtypes(include=['object'])"
   ]
  },
  {
   "cell_type": "code",
   "execution_count": 20,
   "metadata": {},
   "outputs": [
    {
     "name": "stdout",
     "output_type": "stream",
     "text": [
      "['Response' 'Yes' 'No']\n",
      "['Response' 'Yes' nan 'No']\n",
      "['Star Wars: Episode I  The Phantom Menace' nan]\n",
      "['Star Wars: Episode II  Attack of the Clones' nan]\n",
      "['Star Wars: Episode III  Revenge of the Sith' nan]\n",
      "['Star Wars: Episode IV  A New Hope' nan]\n",
      "['Star Wars: Episode V The Empire Strikes Back' nan]\n",
      "['Star Wars: Episode VI Return of the Jedi' nan]\n",
      "['Star Wars: Episode I  The Phantom Menace' '3' nan '1' '5' '6' '4' '2']\n",
      "['Star Wars: Episode II  Attack of the Clones' '2' nan '6' '4' '5' '1' '3']\n",
      "['Star Wars: Episode III  Revenge of the Sith' '1' nan '3' '6' '4' '5' '2']\n",
      "['Star Wars: Episode IV  A New Hope' '4' nan '2' '6' '3' '1' '5']\n",
      "['Star Wars: Episode V The Empire Strikes Back' '5' nan '4' '1' '2' '3'\n",
      " '6']\n",
      "['Star Wars: Episode VI Return of the Jedi' '6' nan '3' '2' '1' '4' '5']\n",
      "['Han Solo' 'Very favorably' nan 'Somewhat favorably'\n",
      " 'Neither favorably nor unfavorably (neutral)' 'Somewhat unfavorably'\n",
      " 'Unfamiliar (N/A)' 'Very unfavorably']\n",
      "['Luke Skywalker' 'Very favorably' nan 'Somewhat favorably'\n",
      " 'Somewhat unfavorably' 'Neither favorably nor unfavorably (neutral)'\n",
      " 'Very unfavorably' 'Unfamiliar (N/A)']\n",
      "['Princess Leia Organa' 'Very favorably' nan 'Somewhat favorably'\n",
      " 'Somewhat unfavorably' 'Neither favorably nor unfavorably (neutral)'\n",
      " 'Very unfavorably' 'Unfamiliar (N/A)']\n",
      "['Anakin Skywalker' 'Very favorably' nan 'Somewhat favorably'\n",
      " 'Somewhat unfavorably' 'Neither favorably nor unfavorably (neutral)'\n",
      " 'Very unfavorably' 'Unfamiliar (N/A)']\n",
      "['Obi Wan Kenobi' 'Very favorably' nan 'Somewhat favorably'\n",
      " 'Very unfavorably' 'Neither favorably nor unfavorably (neutral)'\n",
      " 'Somewhat unfavorably' 'Unfamiliar (N/A)']\n",
      "['Emperor Palpatine' 'Very favorably' nan 'Unfamiliar (N/A)'\n",
      " 'Somewhat favorably' 'Very unfavorably'\n",
      " 'Neither favorably nor unfavorably (neutral)' 'Somewhat unfavorably']\n",
      "['Darth Vader' 'Very favorably' nan 'Unfamiliar (N/A)'\n",
      " 'Somewhat favorably' 'Somewhat unfavorably' 'Very unfavorably'\n",
      " 'Neither favorably nor unfavorably (neutral)']\n",
      "['Lando Calrissian' 'Unfamiliar (N/A)' nan 'Somewhat favorably'\n",
      " 'Neither favorably nor unfavorably (neutral)' 'Very favorably'\n",
      " 'Somewhat unfavorably' 'Very unfavorably']\n",
      "['Boba Fett' 'Unfamiliar (N/A)' nan 'Somewhat unfavorably'\n",
      " 'Very favorably' 'Somewhat favorably'\n",
      " 'Neither favorably nor unfavorably (neutral)' 'Very unfavorably']\n",
      "['C-3P0' 'Very favorably' nan 'Unfamiliar (N/A)' 'Somewhat favorably'\n",
      " 'Neither favorably nor unfavorably (neutral)' 'Somewhat unfavorably'\n",
      " 'Very unfavorably']\n",
      "['R2 D2' 'Very favorably' nan 'Unfamiliar (N/A)' 'Somewhat favorably'\n",
      " 'Neither favorably nor unfavorably (neutral)' 'Somewhat unfavorably'\n",
      " 'Very unfavorably']\n",
      "['Jar Jar Binks' 'Very favorably' nan 'Unfamiliar (N/A)'\n",
      " 'Very unfavorably' 'Somewhat favorably' 'Somewhat unfavorably'\n",
      " 'Neither favorably nor unfavorably (neutral)']\n",
      "['Padme Amidala' 'Very favorably' nan 'Unfamiliar (N/A)'\n",
      " 'Somewhat favorably' 'Neither favorably nor unfavorably (neutral)'\n",
      " 'Somewhat unfavorably' 'Very unfavorably']\n",
      "['Yoda' 'Very favorably' nan 'Unfamiliar (N/A)' 'Somewhat favorably'\n",
      " 'Very unfavorably' 'Neither favorably nor unfavorably (neutral)'\n",
      " 'Somewhat unfavorably']\n",
      "['Response' \"I don't understand this question\" nan 'Greedo' 'Han']\n",
      "['Response' 'Yes' nan 'No']\n",
      "['Response' 'No' nan 'Yes']\n",
      "['Response' 'No' 'Yes' nan 'yes' 'no']\n",
      "['Response' 'Male' nan 'Female']\n",
      "['Response' '18-29' nan '500' '30-44' '> 60' '45-60']\n",
      "['Response' nan '$0 - $24,999' '$100,000 - $149,999' '$25,000 - $49,999'\n",
      " '$50,000 - $99,999' '$150,000+']\n",
      "['Response' 'High school degree' 'Bachelor degree'\n",
      " 'Some college or Associate degree' nan 'Graduate degree'\n",
      " 'Less than high school degree']\n",
      "['Response' 'South Atlantic' 'West South Central' 'West North Central'\n",
      " 'Middle Atlantic' 'East North Central' 'Pacific' nan 'Mountain'\n",
      " 'New England' 'East South Central']\n"
     ]
    }
   ],
   "source": [
    "for attributes in s: \n",
    "    starwarsdf[attributes]=starwarsdf[attributes].str.strip()\n",
    "    print(starwarsdf[attributes].unique())"
   ]
  },
  {
   "cell_type": "code",
   "execution_count": null,
   "metadata": {},
   "outputs": [],
   "source": [
    "#1.5: Upper/Lower-case"
   ]
  },
  {
   "cell_type": "code",
   "execution_count": 23,
   "metadata": {},
   "outputs": [
    {
     "name": "stdout",
     "output_type": "stream",
     "text": [
      "['RESPONSE' 'YES' 'NO']\n",
      "['RESPONSE' 'YES' nan 'NO']\n",
      "['STAR WARS: EPISODE I  THE PHANTOM MENACE' nan]\n",
      "['STAR WARS: EPISODE II  ATTACK OF THE CLONES' nan]\n",
      "['STAR WARS: EPISODE III  REVENGE OF THE SITH' nan]\n",
      "['STAR WARS: EPISODE IV  A NEW HOPE' nan]\n",
      "['STAR WARS: EPISODE V THE EMPIRE STRIKES BACK' nan]\n",
      "['STAR WARS: EPISODE VI RETURN OF THE JEDI' nan]\n",
      "['STAR WARS: EPISODE I  THE PHANTOM MENACE' '3' nan '1' '5' '6' '4' '2']\n",
      "['STAR WARS: EPISODE II  ATTACK OF THE CLONES' '2' nan '6' '4' '5' '1' '3']\n",
      "['STAR WARS: EPISODE III  REVENGE OF THE SITH' '1' nan '3' '6' '4' '5' '2']\n",
      "['STAR WARS: EPISODE IV  A NEW HOPE' '4' nan '2' '6' '3' '1' '5']\n",
      "['STAR WARS: EPISODE V THE EMPIRE STRIKES BACK' '5' nan '4' '1' '2' '3'\n",
      " '6']\n",
      "['STAR WARS: EPISODE VI RETURN OF THE JEDI' '6' nan '3' '2' '1' '4' '5']\n",
      "['HAN SOLO' 'VERY FAVORABLY' nan 'SOMEWHAT FAVORABLY'\n",
      " 'NEITHER FAVORABLY NOR UNFAVORABLY (NEUTRAL)' 'SOMEWHAT UNFAVORABLY'\n",
      " 'UNFAMILIAR (N/A)' 'VERY UNFAVORABLY']\n",
      "['LUKE SKYWALKER' 'VERY FAVORABLY' nan 'SOMEWHAT FAVORABLY'\n",
      " 'SOMEWHAT UNFAVORABLY' 'NEITHER FAVORABLY NOR UNFAVORABLY (NEUTRAL)'\n",
      " 'VERY UNFAVORABLY' 'UNFAMILIAR (N/A)']\n",
      "['PRINCESS LEIA ORGANA' 'VERY FAVORABLY' nan 'SOMEWHAT FAVORABLY'\n",
      " 'SOMEWHAT UNFAVORABLY' 'NEITHER FAVORABLY NOR UNFAVORABLY (NEUTRAL)'\n",
      " 'VERY UNFAVORABLY' 'UNFAMILIAR (N/A)']\n",
      "['ANAKIN SKYWALKER' 'VERY FAVORABLY' nan 'SOMEWHAT FAVORABLY'\n",
      " 'SOMEWHAT UNFAVORABLY' 'NEITHER FAVORABLY NOR UNFAVORABLY (NEUTRAL)'\n",
      " 'VERY UNFAVORABLY' 'UNFAMILIAR (N/A)']\n",
      "['OBI WAN KENOBI' 'VERY FAVORABLY' nan 'SOMEWHAT FAVORABLY'\n",
      " 'VERY UNFAVORABLY' 'NEITHER FAVORABLY NOR UNFAVORABLY (NEUTRAL)'\n",
      " 'SOMEWHAT UNFAVORABLY' 'UNFAMILIAR (N/A)']\n",
      "['EMPEROR PALPATINE' 'VERY FAVORABLY' nan 'UNFAMILIAR (N/A)'\n",
      " 'SOMEWHAT FAVORABLY' 'VERY UNFAVORABLY'\n",
      " 'NEITHER FAVORABLY NOR UNFAVORABLY (NEUTRAL)' 'SOMEWHAT UNFAVORABLY']\n",
      "['DARTH VADER' 'VERY FAVORABLY' nan 'UNFAMILIAR (N/A)'\n",
      " 'SOMEWHAT FAVORABLY' 'SOMEWHAT UNFAVORABLY' 'VERY UNFAVORABLY'\n",
      " 'NEITHER FAVORABLY NOR UNFAVORABLY (NEUTRAL)']\n",
      "['LANDO CALRISSIAN' 'UNFAMILIAR (N/A)' nan 'SOMEWHAT FAVORABLY'\n",
      " 'NEITHER FAVORABLY NOR UNFAVORABLY (NEUTRAL)' 'VERY FAVORABLY'\n",
      " 'SOMEWHAT UNFAVORABLY' 'VERY UNFAVORABLY']\n",
      "['BOBA FETT' 'UNFAMILIAR (N/A)' nan 'SOMEWHAT UNFAVORABLY'\n",
      " 'VERY FAVORABLY' 'SOMEWHAT FAVORABLY'\n",
      " 'NEITHER FAVORABLY NOR UNFAVORABLY (NEUTRAL)' 'VERY UNFAVORABLY']\n",
      "['C-3P0' 'VERY FAVORABLY' nan 'UNFAMILIAR (N/A)' 'SOMEWHAT FAVORABLY'\n",
      " 'NEITHER FAVORABLY NOR UNFAVORABLY (NEUTRAL)' 'SOMEWHAT UNFAVORABLY'\n",
      " 'VERY UNFAVORABLY']\n",
      "['R2 D2' 'VERY FAVORABLY' nan 'UNFAMILIAR (N/A)' 'SOMEWHAT FAVORABLY'\n",
      " 'NEITHER FAVORABLY NOR UNFAVORABLY (NEUTRAL)' 'SOMEWHAT UNFAVORABLY'\n",
      " 'VERY UNFAVORABLY']\n",
      "['JAR JAR BINKS' 'VERY FAVORABLY' nan 'UNFAMILIAR (N/A)'\n",
      " 'VERY UNFAVORABLY' 'SOMEWHAT FAVORABLY' 'SOMEWHAT UNFAVORABLY'\n",
      " 'NEITHER FAVORABLY NOR UNFAVORABLY (NEUTRAL)']\n",
      "['PADME AMIDALA' 'VERY FAVORABLY' nan 'UNFAMILIAR (N/A)'\n",
      " 'SOMEWHAT FAVORABLY' 'NEITHER FAVORABLY NOR UNFAVORABLY (NEUTRAL)'\n",
      " 'SOMEWHAT UNFAVORABLY' 'VERY UNFAVORABLY']\n",
      "['YODA' 'VERY FAVORABLY' nan 'UNFAMILIAR (N/A)' 'SOMEWHAT FAVORABLY'\n",
      " 'VERY UNFAVORABLY' 'NEITHER FAVORABLY NOR UNFAVORABLY (NEUTRAL)'\n",
      " 'SOMEWHAT UNFAVORABLY']\n",
      "['RESPONSE' \"I DON'T UNDERSTAND THIS QUESTION\" nan 'GREEDO' 'HAN']\n",
      "['RESPONSE' 'YES' nan 'NO']\n",
      "['RESPONSE' 'NO' nan 'YES']\n",
      "['RESPONSE' 'NO' 'YES' nan]\n",
      "['RESPONSE' 'MALE' nan 'FEMALE']\n",
      "['RESPONSE' '18-29' nan '500' '30-44' '> 60' '45-60']\n",
      "['RESPONSE' nan '$0 - $24,999' '$100,000 - $149,999' '$25,000 - $49,999'\n",
      " '$50,000 - $99,999' '$150,000+']\n",
      "['RESPONSE' 'HIGH SCHOOL DEGREE' 'BACHELOR DEGREE'\n",
      " 'SOME COLLEGE OR ASSOCIATE DEGREE' nan 'GRADUATE DEGREE'\n",
      " 'LESS THAN HIGH SCHOOL DEGREE']\n",
      "['RESPONSE' 'SOUTH ATLANTIC' 'WEST SOUTH CENTRAL' 'WEST NORTH CENTRAL'\n",
      " 'MIDDLE ATLANTIC' 'EAST NORTH CENTRAL' 'PACIFIC' nan 'MOUNTAIN'\n",
      " 'NEW ENGLAND' 'EAST SOUTH CENTRAL']\n"
     ]
    }
   ],
   "source": [
    "for attributes in s: \n",
    "    starwarsdf[attributes]=starwarsdf[attributes].str.upper()\n",
    "    print(starwarsdf[attributes].unique())"
   ]
  },
  {
   "cell_type": "code",
   "execution_count": 24,
   "metadata": {},
   "outputs": [
    {
     "data": {
      "text/html": [
       "<div>\n",
       "<style scoped>\n",
       "    .dataframe tbody tr th:only-of-type {\n",
       "        vertical-align: middle;\n",
       "    }\n",
       "\n",
       "    .dataframe tbody tr th {\n",
       "        vertical-align: top;\n",
       "    }\n",
       "\n",
       "    .dataframe thead th {\n",
       "        text-align: right;\n",
       "    }\n",
       "</style>\n",
       "<table border=\"1\" class=\"dataframe\">\n",
       "  <thead>\n",
       "    <tr style=\"text-align: right;\">\n",
       "      <th></th>\n",
       "      <th>RespondentID</th>\n",
       "    </tr>\n",
       "  </thead>\n",
       "  <tbody>\n",
       "    <tr>\n",
       "      <th>count</th>\n",
       "      <td>1.186000e+03</td>\n",
       "    </tr>\n",
       "    <tr>\n",
       "      <th>mean</th>\n",
       "      <td>3.290128e+09</td>\n",
       "    </tr>\n",
       "    <tr>\n",
       "      <th>std</th>\n",
       "      <td>1.055639e+06</td>\n",
       "    </tr>\n",
       "    <tr>\n",
       "      <th>min</th>\n",
       "      <td>3.288373e+09</td>\n",
       "    </tr>\n",
       "    <tr>\n",
       "      <th>25%</th>\n",
       "      <td>3.289451e+09</td>\n",
       "    </tr>\n",
       "    <tr>\n",
       "      <th>50%</th>\n",
       "      <td>3.290147e+09</td>\n",
       "    </tr>\n",
       "    <tr>\n",
       "      <th>75%</th>\n",
       "      <td>3.290814e+09</td>\n",
       "    </tr>\n",
       "    <tr>\n",
       "      <th>max</th>\n",
       "      <td>3.292880e+09</td>\n",
       "    </tr>\n",
       "  </tbody>\n",
       "</table>\n",
       "</div>"
      ],
      "text/plain": [
       "       RespondentID\n",
       "count  1.186000e+03\n",
       "mean   3.290128e+09\n",
       "std    1.055639e+06\n",
       "min    3.288373e+09\n",
       "25%    3.289451e+09\n",
       "50%    3.290147e+09\n",
       "75%    3.290814e+09\n",
       "max    3.292880e+09"
      ]
     },
     "execution_count": 24,
     "metadata": {},
     "output_type": "execute_result"
    }
   ],
   "source": [
    "starwarsdf.describe()"
   ]
  },
  {
   "cell_type": "code",
   "execution_count": 25,
   "metadata": {},
   "outputs": [],
   "source": [
    "#1.6: Sanity checks"
   ]
  },
  {
   "cell_type": "code",
   "execution_count": 26,
   "metadata": {},
   "outputs": [
    {
     "data": {
      "text/plain": [
       "45-60       291\n",
       "> 60        269\n",
       "30-44       268\n",
       "18-29       217\n",
       "NaN         140\n",
       "RESPONSE      1\n",
       "500           1\n",
       "Name: Age, dtype: int64"
      ]
     },
     "execution_count": 26,
     "metadata": {},
     "output_type": "execute_result"
    }
   ],
   "source": [
    "starwarsdf['Age'].value_counts(dropna=False)"
   ]
  },
  {
   "cell_type": "code",
   "execution_count": 27,
   "metadata": {},
   "outputs": [],
   "source": [
    "starwarsdf['Age']=starwarsdf['Age'].replace('500',np.NaN)"
   ]
  },
  {
   "cell_type": "code",
   "execution_count": 28,
   "metadata": {},
   "outputs": [
    {
     "data": {
      "text/plain": [
       "45-60       291\n",
       "> 60        269\n",
       "30-44       268\n",
       "18-29       217\n",
       "NaN         141\n",
       "RESPONSE      1\n",
       "Name: Age, dtype: int64"
      ]
     },
     "execution_count": 28,
     "metadata": {},
     "output_type": "execute_result"
    }
   ],
   "source": [
    "starwarsdf['Age'].value_counts(dropna=False)"
   ]
  },
  {
   "cell_type": "code",
   "execution_count": 29,
   "metadata": {},
   "outputs": [],
   "source": [
    "starwarsdf = starwarsdf[starwarsdf[\"RespondentID\"].notnull()]"
   ]
  },
  {
   "cell_type": "code",
   "execution_count": 30,
   "metadata": {},
   "outputs": [
    {
     "data": {
      "text/plain": [
       "(1186, 38)"
      ]
     },
     "execution_count": 30,
     "metadata": {},
     "output_type": "execute_result"
    }
   ],
   "source": [
    "starwarsdf.shape"
   ]
  },
  {
   "cell_type": "code",
   "execution_count": 31,
   "metadata": {},
   "outputs": [],
   "source": [
    "#Task 1.7: Missing values"
   ]
  },
  {
   "cell_type": "code",
   "execution_count": 32,
   "metadata": {},
   "outputs": [
    {
     "data": {
      "text/html": [
       "<div>\n",
       "<style scoped>\n",
       "    .dataframe tbody tr th:only-of-type {\n",
       "        vertical-align: middle;\n",
       "    }\n",
       "\n",
       "    .dataframe tbody tr th {\n",
       "        vertical-align: top;\n",
       "    }\n",
       "\n",
       "    .dataframe thead th {\n",
       "        text-align: right;\n",
       "    }\n",
       "</style>\n",
       "<table border=\"1\" class=\"dataframe\">\n",
       "  <thead>\n",
       "    <tr style=\"text-align: right;\">\n",
       "      <th></th>\n",
       "      <th>RespondentID</th>\n",
       "      <th>Have you seen any of the 6 films in the Star Wars franchise?</th>\n",
       "      <th>Do you consider yourself to be a fan of the Star Wars film franchise?</th>\n",
       "      <th>Which of the following Star Wars films have you seen? Please select all that apply.</th>\n",
       "      <th>Unnamed: 4</th>\n",
       "      <th>Unnamed: 5</th>\n",
       "      <th>Unnamed: 6</th>\n",
       "      <th>Unnamed: 7</th>\n",
       "      <th>Unnamed: 8</th>\n",
       "      <th>Please rank the Star Wars films in order of preference with 1 being your favorite film in the franchise and 6 being your least favorite film.</th>\n",
       "      <th>...</th>\n",
       "      <th>Unnamed: 28</th>\n",
       "      <th>Which character shot first?</th>\n",
       "      <th>Are you familiar with the Expanded Universe?</th>\n",
       "      <th>Do you consider yourself to be a fan of the Expanded Universe?æ</th>\n",
       "      <th>Do you consider yourself to be a fan of the Star Trek franchise?</th>\n",
       "      <th>Gender</th>\n",
       "      <th>Age</th>\n",
       "      <th>Household Income</th>\n",
       "      <th>Education</th>\n",
       "      <th>Location (Census Region)</th>\n",
       "    </tr>\n",
       "  </thead>\n",
       "  <tbody>\n",
       "    <tr>\n",
       "      <th>1</th>\n",
       "      <td>False</td>\n",
       "      <td>False</td>\n",
       "      <td>False</td>\n",
       "      <td>False</td>\n",
       "      <td>False</td>\n",
       "      <td>False</td>\n",
       "      <td>False</td>\n",
       "      <td>False</td>\n",
       "      <td>False</td>\n",
       "      <td>False</td>\n",
       "      <td>...</td>\n",
       "      <td>False</td>\n",
       "      <td>False</td>\n",
       "      <td>False</td>\n",
       "      <td>False</td>\n",
       "      <td>False</td>\n",
       "      <td>False</td>\n",
       "      <td>False</td>\n",
       "      <td>True</td>\n",
       "      <td>False</td>\n",
       "      <td>False</td>\n",
       "    </tr>\n",
       "    <tr>\n",
       "      <th>2</th>\n",
       "      <td>False</td>\n",
       "      <td>False</td>\n",
       "      <td>True</td>\n",
       "      <td>True</td>\n",
       "      <td>True</td>\n",
       "      <td>True</td>\n",
       "      <td>True</td>\n",
       "      <td>True</td>\n",
       "      <td>True</td>\n",
       "      <td>True</td>\n",
       "      <td>...</td>\n",
       "      <td>True</td>\n",
       "      <td>True</td>\n",
       "      <td>True</td>\n",
       "      <td>True</td>\n",
       "      <td>False</td>\n",
       "      <td>False</td>\n",
       "      <td>False</td>\n",
       "      <td>False</td>\n",
       "      <td>False</td>\n",
       "      <td>False</td>\n",
       "    </tr>\n",
       "    <tr>\n",
       "      <th>3</th>\n",
       "      <td>False</td>\n",
       "      <td>False</td>\n",
       "      <td>False</td>\n",
       "      <td>False</td>\n",
       "      <td>False</td>\n",
       "      <td>False</td>\n",
       "      <td>True</td>\n",
       "      <td>True</td>\n",
       "      <td>True</td>\n",
       "      <td>False</td>\n",
       "      <td>...</td>\n",
       "      <td>False</td>\n",
       "      <td>False</td>\n",
       "      <td>False</td>\n",
       "      <td>True</td>\n",
       "      <td>False</td>\n",
       "      <td>False</td>\n",
       "      <td>False</td>\n",
       "      <td>False</td>\n",
       "      <td>False</td>\n",
       "      <td>False</td>\n",
       "    </tr>\n",
       "    <tr>\n",
       "      <th>4</th>\n",
       "      <td>False</td>\n",
       "      <td>False</td>\n",
       "      <td>False</td>\n",
       "      <td>False</td>\n",
       "      <td>False</td>\n",
       "      <td>False</td>\n",
       "      <td>False</td>\n",
       "      <td>False</td>\n",
       "      <td>False</td>\n",
       "      <td>False</td>\n",
       "      <td>...</td>\n",
       "      <td>False</td>\n",
       "      <td>False</td>\n",
       "      <td>False</td>\n",
       "      <td>True</td>\n",
       "      <td>False</td>\n",
       "      <td>False</td>\n",
       "      <td>False</td>\n",
       "      <td>False</td>\n",
       "      <td>False</td>\n",
       "      <td>False</td>\n",
       "    </tr>\n",
       "    <tr>\n",
       "      <th>5</th>\n",
       "      <td>False</td>\n",
       "      <td>False</td>\n",
       "      <td>False</td>\n",
       "      <td>False</td>\n",
       "      <td>False</td>\n",
       "      <td>False</td>\n",
       "      <td>False</td>\n",
       "      <td>False</td>\n",
       "      <td>False</td>\n",
       "      <td>False</td>\n",
       "      <td>...</td>\n",
       "      <td>False</td>\n",
       "      <td>False</td>\n",
       "      <td>False</td>\n",
       "      <td>False</td>\n",
       "      <td>False</td>\n",
       "      <td>False</td>\n",
       "      <td>False</td>\n",
       "      <td>False</td>\n",
       "      <td>False</td>\n",
       "      <td>False</td>\n",
       "    </tr>\n",
       "    <tr>\n",
       "      <th>...</th>\n",
       "      <td>...</td>\n",
       "      <td>...</td>\n",
       "      <td>...</td>\n",
       "      <td>...</td>\n",
       "      <td>...</td>\n",
       "      <td>...</td>\n",
       "      <td>...</td>\n",
       "      <td>...</td>\n",
       "      <td>...</td>\n",
       "      <td>...</td>\n",
       "      <td>...</td>\n",
       "      <td>...</td>\n",
       "      <td>...</td>\n",
       "      <td>...</td>\n",
       "      <td>...</td>\n",
       "      <td>...</td>\n",
       "      <td>...</td>\n",
       "      <td>...</td>\n",
       "      <td>...</td>\n",
       "      <td>...</td>\n",
       "      <td>...</td>\n",
       "    </tr>\n",
       "    <tr>\n",
       "      <th>1182</th>\n",
       "      <td>False</td>\n",
       "      <td>False</td>\n",
       "      <td>False</td>\n",
       "      <td>False</td>\n",
       "      <td>False</td>\n",
       "      <td>False</td>\n",
       "      <td>False</td>\n",
       "      <td>False</td>\n",
       "      <td>False</td>\n",
       "      <td>False</td>\n",
       "      <td>...</td>\n",
       "      <td>False</td>\n",
       "      <td>False</td>\n",
       "      <td>False</td>\n",
       "      <td>True</td>\n",
       "      <td>False</td>\n",
       "      <td>False</td>\n",
       "      <td>False</td>\n",
       "      <td>False</td>\n",
       "      <td>False</td>\n",
       "      <td>False</td>\n",
       "    </tr>\n",
       "    <tr>\n",
       "      <th>1183</th>\n",
       "      <td>False</td>\n",
       "      <td>False</td>\n",
       "      <td>False</td>\n",
       "      <td>False</td>\n",
       "      <td>False</td>\n",
       "      <td>False</td>\n",
       "      <td>False</td>\n",
       "      <td>False</td>\n",
       "      <td>False</td>\n",
       "      <td>False</td>\n",
       "      <td>...</td>\n",
       "      <td>False</td>\n",
       "      <td>False</td>\n",
       "      <td>False</td>\n",
       "      <td>True</td>\n",
       "      <td>False</td>\n",
       "      <td>False</td>\n",
       "      <td>False</td>\n",
       "      <td>False</td>\n",
       "      <td>False</td>\n",
       "      <td>False</td>\n",
       "    </tr>\n",
       "    <tr>\n",
       "      <th>1184</th>\n",
       "      <td>False</td>\n",
       "      <td>False</td>\n",
       "      <td>True</td>\n",
       "      <td>True</td>\n",
       "      <td>True</td>\n",
       "      <td>True</td>\n",
       "      <td>True</td>\n",
       "      <td>True</td>\n",
       "      <td>True</td>\n",
       "      <td>True</td>\n",
       "      <td>...</td>\n",
       "      <td>True</td>\n",
       "      <td>True</td>\n",
       "      <td>True</td>\n",
       "      <td>True</td>\n",
       "      <td>False</td>\n",
       "      <td>False</td>\n",
       "      <td>False</td>\n",
       "      <td>False</td>\n",
       "      <td>False</td>\n",
       "      <td>False</td>\n",
       "    </tr>\n",
       "    <tr>\n",
       "      <th>1185</th>\n",
       "      <td>False</td>\n",
       "      <td>False</td>\n",
       "      <td>False</td>\n",
       "      <td>False</td>\n",
       "      <td>False</td>\n",
       "      <td>False</td>\n",
       "      <td>False</td>\n",
       "      <td>False</td>\n",
       "      <td>False</td>\n",
       "      <td>False</td>\n",
       "      <td>...</td>\n",
       "      <td>False</td>\n",
       "      <td>False</td>\n",
       "      <td>False</td>\n",
       "      <td>True</td>\n",
       "      <td>False</td>\n",
       "      <td>False</td>\n",
       "      <td>False</td>\n",
       "      <td>False</td>\n",
       "      <td>False</td>\n",
       "      <td>False</td>\n",
       "    </tr>\n",
       "    <tr>\n",
       "      <th>1186</th>\n",
       "      <td>False</td>\n",
       "      <td>False</td>\n",
       "      <td>False</td>\n",
       "      <td>False</td>\n",
       "      <td>False</td>\n",
       "      <td>True</td>\n",
       "      <td>True</td>\n",
       "      <td>False</td>\n",
       "      <td>False</td>\n",
       "      <td>False</td>\n",
       "      <td>...</td>\n",
       "      <td>False</td>\n",
       "      <td>False</td>\n",
       "      <td>False</td>\n",
       "      <td>True</td>\n",
       "      <td>False</td>\n",
       "      <td>False</td>\n",
       "      <td>False</td>\n",
       "      <td>False</td>\n",
       "      <td>False</td>\n",
       "      <td>False</td>\n",
       "    </tr>\n",
       "  </tbody>\n",
       "</table>\n",
       "<p>1186 rows × 38 columns</p>\n",
       "</div>"
      ],
      "text/plain": [
       "      RespondentID  \\\n",
       "1            False   \n",
       "2            False   \n",
       "3            False   \n",
       "4            False   \n",
       "5            False   \n",
       "...            ...   \n",
       "1182         False   \n",
       "1183         False   \n",
       "1184         False   \n",
       "1185         False   \n",
       "1186         False   \n",
       "\n",
       "      Have you seen any of the 6 films in the Star Wars franchise?  \\\n",
       "1                                                 False              \n",
       "2                                                 False              \n",
       "3                                                 False              \n",
       "4                                                 False              \n",
       "5                                                 False              \n",
       "...                                                 ...              \n",
       "1182                                              False              \n",
       "1183                                              False              \n",
       "1184                                              False              \n",
       "1185                                              False              \n",
       "1186                                              False              \n",
       "\n",
       "      Do you consider yourself to be a fan of the Star Wars film franchise?  \\\n",
       "1                                                 False                       \n",
       "2                                                  True                       \n",
       "3                                                 False                       \n",
       "4                                                 False                       \n",
       "5                                                 False                       \n",
       "...                                                 ...                       \n",
       "1182                                              False                       \n",
       "1183                                              False                       \n",
       "1184                                               True                       \n",
       "1185                                              False                       \n",
       "1186                                              False                       \n",
       "\n",
       "      Which of the following Star Wars films have you seen? Please select all that apply.  \\\n",
       "1                                                 False                                     \n",
       "2                                                  True                                     \n",
       "3                                                 False                                     \n",
       "4                                                 False                                     \n",
       "5                                                 False                                     \n",
       "...                                                 ...                                     \n",
       "1182                                              False                                     \n",
       "1183                                              False                                     \n",
       "1184                                               True                                     \n",
       "1185                                              False                                     \n",
       "1186                                              False                                     \n",
       "\n",
       "      Unnamed: 4  Unnamed: 5  Unnamed: 6  Unnamed: 7  Unnamed: 8  \\\n",
       "1          False       False       False       False       False   \n",
       "2           True        True        True        True        True   \n",
       "3          False       False        True        True        True   \n",
       "4          False       False       False       False       False   \n",
       "5          False       False       False       False       False   \n",
       "...          ...         ...         ...         ...         ...   \n",
       "1182       False       False       False       False       False   \n",
       "1183       False       False       False       False       False   \n",
       "1184        True        True        True        True        True   \n",
       "1185       False       False       False       False       False   \n",
       "1186       False        True        True       False       False   \n",
       "\n",
       "      Please rank the Star Wars films in order of preference with 1 being your favorite film in the franchise and 6 being your least favorite film.  \\\n",
       "1                                                 False                                                                                               \n",
       "2                                                  True                                                                                               \n",
       "3                                                 False                                                                                               \n",
       "4                                                 False                                                                                               \n",
       "5                                                 False                                                                                               \n",
       "...                                                 ...                                                                                               \n",
       "1182                                              False                                                                                               \n",
       "1183                                              False                                                                                               \n",
       "1184                                               True                                                                                               \n",
       "1185                                              False                                                                                               \n",
       "1186                                              False                                                                                               \n",
       "\n",
       "      ...  Unnamed: 28  Which character shot first?  \\\n",
       "1     ...        False                        False   \n",
       "2     ...         True                         True   \n",
       "3     ...        False                        False   \n",
       "4     ...        False                        False   \n",
       "5     ...        False                        False   \n",
       "...   ...          ...                          ...   \n",
       "1182  ...        False                        False   \n",
       "1183  ...        False                        False   \n",
       "1184  ...         True                         True   \n",
       "1185  ...        False                        False   \n",
       "1186  ...        False                        False   \n",
       "\n",
       "      Are you familiar with the Expanded Universe?  \\\n",
       "1                                            False   \n",
       "2                                             True   \n",
       "3                                            False   \n",
       "4                                            False   \n",
       "5                                            False   \n",
       "...                                            ...   \n",
       "1182                                         False   \n",
       "1183                                         False   \n",
       "1184                                          True   \n",
       "1185                                         False   \n",
       "1186                                         False   \n",
       "\n",
       "      Do you consider yourself to be a fan of the Expanded Universe?æ  \\\n",
       "1                                                 False                  \n",
       "2                                                  True                  \n",
       "3                                                  True                  \n",
       "4                                                  True                  \n",
       "5                                                 False                  \n",
       "...                                                 ...                  \n",
       "1182                                               True                  \n",
       "1183                                               True                  \n",
       "1184                                               True                  \n",
       "1185                                               True                  \n",
       "1186                                               True                  \n",
       "\n",
       "      Do you consider yourself to be a fan of the Star Trek franchise?  \\\n",
       "1                                                 False                  \n",
       "2                                                 False                  \n",
       "3                                                 False                  \n",
       "4                                                 False                  \n",
       "5                                                 False                  \n",
       "...                                                 ...                  \n",
       "1182                                              False                  \n",
       "1183                                              False                  \n",
       "1184                                              False                  \n",
       "1185                                              False                  \n",
       "1186                                              False                  \n",
       "\n",
       "      Gender    Age  Household Income  Education  Location (Census Region)  \n",
       "1      False  False              True      False                     False  \n",
       "2      False  False             False      False                     False  \n",
       "3      False  False             False      False                     False  \n",
       "4      False  False             False      False                     False  \n",
       "5      False  False             False      False                     False  \n",
       "...      ...    ...               ...        ...                       ...  \n",
       "1182   False  False             False      False                     False  \n",
       "1183   False  False             False      False                     False  \n",
       "1184   False  False             False      False                     False  \n",
       "1185   False  False             False      False                     False  \n",
       "1186   False  False             False      False                     False  \n",
       "\n",
       "[1186 rows x 38 columns]"
      ]
     },
     "execution_count": 32,
     "metadata": {},
     "output_type": "execute_result"
    }
   ],
   "source": [
    "starwarsdf.isnull()"
   ]
  },
  {
   "cell_type": "code",
   "execution_count": 33,
   "metadata": {},
   "outputs": [],
   "source": [
    "#2.1: Explore a survey question"
   ]
  },
  {
   "cell_type": "code",
   "execution_count": 34,
   "metadata": {},
   "outputs": [
    {
     "data": {
      "text/plain": [
       "Index(['RespondentID',\n",
       "       'Have you seen any of the 6 films in the Star Wars franchise?',\n",
       "       'Do you consider yourself to be a fan of the Star Wars film franchise?',\n",
       "       'Which of the following Star Wars films have you seen? Please select all that apply.',\n",
       "       'Unnamed: 4', 'Unnamed: 5', 'Unnamed: 6', 'Unnamed: 7', 'Unnamed: 8',\n",
       "       'Please rank the Star Wars films in order of preference with 1 being your favorite film in the franchise and 6 being your least favorite film.',\n",
       "       'Unnamed: 10', 'Unnamed: 11', 'Unnamed: 12', 'Unnamed: 13',\n",
       "       'Unnamed: 14',\n",
       "       'Please state whether you view the following characters favorably, unfavorably, or are unfamiliar with him/her.',\n",
       "       'Unnamed: 16', 'Unnamed: 17', 'Unnamed: 18', 'Unnamed: 19',\n",
       "       'Unnamed: 20', 'Unnamed: 21', 'Unnamed: 22', 'Unnamed: 23',\n",
       "       'Unnamed: 24', 'Unnamed: 25', 'Unnamed: 26', 'Unnamed: 27',\n",
       "       'Unnamed: 28', 'Which character shot first?',\n",
       "       'Are you familiar with the Expanded Universe?',\n",
       "       'Do you consider yourself to be a fan of the Expanded Universe?æ',\n",
       "       'Do you consider yourself to be a fan of the Star Trek franchise?',\n",
       "       'Gender', 'Age', 'Household Income', 'Education',\n",
       "       'Location (Census Region)'],\n",
       "      dtype='object')"
      ]
     },
     "execution_count": 34,
     "metadata": {},
     "output_type": "execute_result"
    }
   ],
   "source": [
    "starwarsdf.columns"
   ]
  },
  {
   "cell_type": "code",
   "execution_count": 90,
   "metadata": {},
   "outputs": [],
   "source": [
    "map={\n",
    "    \"Star Wars: Episode I  The Phantom Menace\":True,np.nan:False,\n",
    "    \"Star Wars: Episode II  Attack of the Clones\":True,\n",
    "    \"Star Wars: Episode III  Revenge of the Sith\":True,\n",
    "    \"Star Wars: Episode IV  A New Hope\":True,\n",
    "    \"Star Wars: Episode V The Empire Strikes Back\":True,\n",
    "    \"Star Wars: Episode VI Return of the Jedi\":True      \n",
    "}\n",
    "\n",
    "for col in starwarsdf.columns[3:9]:\n",
    "    starwarsdf[col]=starwarsdf[col].map(map)"
   ]
  },
  {
   "cell_type": "code",
   "execution_count": 37,
   "metadata": {},
   "outputs": [],
   "source": [
    "starwarsdf=starwarsdf.rename(columns={\n",
    "    \"Which of the following Star Wars films have you seen? Please select all that apply.\":\"Seen1\",\n",
    "    \"Unnamed: 4\":\"Seen2\",\n",
    "    \"Unnamed: 5\":\"Seen3\",\n",
    "    \"Unnamed: 6\":\"Seen4\",\n",
    "    \"Unnamed: 7\":\"Seen5\",\n",
    "    \"Unnamed: 8\":\"Seen6\",\n",
    "})"
   ]
  },
  {
   "cell_type": "code",
   "execution_count": 38,
   "metadata": {},
   "outputs": [],
   "source": [
    "starwarsdf[starwarsdf.columns[9:15]] = starwarsdf[starwarsdf.columns[9:15]].astype(float)"
   ]
  },
  {
   "cell_type": "code",
   "execution_count": 39,
   "metadata": {},
   "outputs": [
    {
     "data": {
      "text/html": [
       "<div>\n",
       "<style scoped>\n",
       "    .dataframe tbody tr th:only-of-type {\n",
       "        vertical-align: middle;\n",
       "    }\n",
       "\n",
       "    .dataframe tbody tr th {\n",
       "        vertical-align: top;\n",
       "    }\n",
       "\n",
       "    .dataframe thead th {\n",
       "        text-align: right;\n",
       "    }\n",
       "</style>\n",
       "<table border=\"1\" class=\"dataframe\">\n",
       "  <thead>\n",
       "    <tr style=\"text-align: right;\">\n",
       "      <th></th>\n",
       "      <th>RespondentID</th>\n",
       "      <th>Have you seen any of the 6 films in the Star Wars franchise?</th>\n",
       "      <th>Do you consider yourself to be a fan of the Star Wars film franchise?</th>\n",
       "      <th>Seen1</th>\n",
       "      <th>Seen2</th>\n",
       "      <th>Seen3</th>\n",
       "      <th>Seen4</th>\n",
       "      <th>Seen5</th>\n",
       "      <th>Seen6</th>\n",
       "      <th>Please rank the Star Wars films in order of preference with 1 being your favorite film in the franchise and 6 being your least favorite film.</th>\n",
       "      <th>...</th>\n",
       "      <th>Unnamed: 28</th>\n",
       "      <th>Which character shot first?</th>\n",
       "      <th>Are you familiar with the Expanded Universe?</th>\n",
       "      <th>Do you consider yourself to be a fan of the Expanded Universe?æ</th>\n",
       "      <th>Do you consider yourself to be a fan of the Star Trek franchise?</th>\n",
       "      <th>Gender</th>\n",
       "      <th>Age</th>\n",
       "      <th>Household Income</th>\n",
       "      <th>Education</th>\n",
       "      <th>Location (Census Region)</th>\n",
       "    </tr>\n",
       "  </thead>\n",
       "  <tbody>\n",
       "    <tr>\n",
       "      <th>1</th>\n",
       "      <td>3.292880e+09</td>\n",
       "      <td>YES</td>\n",
       "      <td>YES</td>\n",
       "      <td>False</td>\n",
       "      <td>False</td>\n",
       "      <td>False</td>\n",
       "      <td>False</td>\n",
       "      <td>False</td>\n",
       "      <td>False</td>\n",
       "      <td>3.0</td>\n",
       "      <td>...</td>\n",
       "      <td>VERY FAVORABLY</td>\n",
       "      <td>I DON'T UNDERSTAND THIS QUESTION</td>\n",
       "      <td>YES</td>\n",
       "      <td>NO</td>\n",
       "      <td>NO</td>\n",
       "      <td>MALE</td>\n",
       "      <td>18-29</td>\n",
       "      <td>NaN</td>\n",
       "      <td>HIGH SCHOOL DEGREE</td>\n",
       "      <td>SOUTH ATLANTIC</td>\n",
       "    </tr>\n",
       "    <tr>\n",
       "      <th>2</th>\n",
       "      <td>3.292880e+09</td>\n",
       "      <td>NO</td>\n",
       "      <td>NaN</td>\n",
       "      <td>NaN</td>\n",
       "      <td>NaN</td>\n",
       "      <td>NaN</td>\n",
       "      <td>NaN</td>\n",
       "      <td>NaN</td>\n",
       "      <td>NaN</td>\n",
       "      <td>NaN</td>\n",
       "      <td>...</td>\n",
       "      <td>NaN</td>\n",
       "      <td>NaN</td>\n",
       "      <td>NaN</td>\n",
       "      <td>NaN</td>\n",
       "      <td>YES</td>\n",
       "      <td>MALE</td>\n",
       "      <td>18-29</td>\n",
       "      <td>$0 - $24,999</td>\n",
       "      <td>BACHELOR DEGREE</td>\n",
       "      <td>WEST SOUTH CENTRAL</td>\n",
       "    </tr>\n",
       "    <tr>\n",
       "      <th>3</th>\n",
       "      <td>3.292765e+09</td>\n",
       "      <td>YES</td>\n",
       "      <td>NO</td>\n",
       "      <td>False</td>\n",
       "      <td>False</td>\n",
       "      <td>False</td>\n",
       "      <td>NaN</td>\n",
       "      <td>NaN</td>\n",
       "      <td>NaN</td>\n",
       "      <td>1.0</td>\n",
       "      <td>...</td>\n",
       "      <td>UNFAMILIAR (N/A)</td>\n",
       "      <td>I DON'T UNDERSTAND THIS QUESTION</td>\n",
       "      <td>NO</td>\n",
       "      <td>NaN</td>\n",
       "      <td>NO</td>\n",
       "      <td>MALE</td>\n",
       "      <td>18-29</td>\n",
       "      <td>$0 - $24,999</td>\n",
       "      <td>HIGH SCHOOL DEGREE</td>\n",
       "      <td>WEST NORTH CENTRAL</td>\n",
       "    </tr>\n",
       "    <tr>\n",
       "      <th>4</th>\n",
       "      <td>3.292763e+09</td>\n",
       "      <td>YES</td>\n",
       "      <td>YES</td>\n",
       "      <td>False</td>\n",
       "      <td>False</td>\n",
       "      <td>False</td>\n",
       "      <td>False</td>\n",
       "      <td>False</td>\n",
       "      <td>False</td>\n",
       "      <td>5.0</td>\n",
       "      <td>...</td>\n",
       "      <td>VERY FAVORABLY</td>\n",
       "      <td>I DON'T UNDERSTAND THIS QUESTION</td>\n",
       "      <td>NO</td>\n",
       "      <td>NaN</td>\n",
       "      <td>YES</td>\n",
       "      <td>MALE</td>\n",
       "      <td>18-29</td>\n",
       "      <td>$100,000 - $149,999</td>\n",
       "      <td>SOME COLLEGE OR ASSOCIATE DEGREE</td>\n",
       "      <td>WEST NORTH CENTRAL</td>\n",
       "    </tr>\n",
       "    <tr>\n",
       "      <th>5</th>\n",
       "      <td>3.292731e+09</td>\n",
       "      <td>YES</td>\n",
       "      <td>YES</td>\n",
       "      <td>False</td>\n",
       "      <td>False</td>\n",
       "      <td>False</td>\n",
       "      <td>False</td>\n",
       "      <td>False</td>\n",
       "      <td>False</td>\n",
       "      <td>5.0</td>\n",
       "      <td>...</td>\n",
       "      <td>SOMEWHAT FAVORABLY</td>\n",
       "      <td>GREEDO</td>\n",
       "      <td>YES</td>\n",
       "      <td>NO</td>\n",
       "      <td>NO</td>\n",
       "      <td>MALE</td>\n",
       "      <td>18-29</td>\n",
       "      <td>$100,000 - $149,999</td>\n",
       "      <td>SOME COLLEGE OR ASSOCIATE DEGREE</td>\n",
       "      <td>WEST NORTH CENTRAL</td>\n",
       "    </tr>\n",
       "  </tbody>\n",
       "</table>\n",
       "<p>5 rows × 38 columns</p>\n",
       "</div>"
      ],
      "text/plain": [
       "   RespondentID Have you seen any of the 6 films in the Star Wars franchise?  \\\n",
       "1  3.292880e+09                                                YES             \n",
       "2  3.292880e+09                                                 NO             \n",
       "3  3.292765e+09                                                YES             \n",
       "4  3.292763e+09                                                YES             \n",
       "5  3.292731e+09                                                YES             \n",
       "\n",
       "  Do you consider yourself to be a fan of the Star Wars film franchise?  \\\n",
       "1                                                YES                      \n",
       "2                                                NaN                      \n",
       "3                                                 NO                      \n",
       "4                                                YES                      \n",
       "5                                                YES                      \n",
       "\n",
       "   Seen1  Seen2  Seen3  Seen4  Seen5  Seen6  \\\n",
       "1  False  False  False  False  False  False   \n",
       "2    NaN    NaN    NaN    NaN    NaN    NaN   \n",
       "3  False  False  False    NaN    NaN    NaN   \n",
       "4  False  False  False  False  False  False   \n",
       "5  False  False  False  False  False  False   \n",
       "\n",
       "   Please rank the Star Wars films in order of preference with 1 being your favorite film in the franchise and 6 being your least favorite film.  \\\n",
       "1                                                3.0                                                                                               \n",
       "2                                                NaN                                                                                               \n",
       "3                                                1.0                                                                                               \n",
       "4                                                5.0                                                                                               \n",
       "5                                                5.0                                                                                               \n",
       "\n",
       "   ...         Unnamed: 28       Which character shot first?  \\\n",
       "1  ...      VERY FAVORABLY  I DON'T UNDERSTAND THIS QUESTION   \n",
       "2  ...                 NaN                               NaN   \n",
       "3  ...    UNFAMILIAR (N/A)  I DON'T UNDERSTAND THIS QUESTION   \n",
       "4  ...      VERY FAVORABLY  I DON'T UNDERSTAND THIS QUESTION   \n",
       "5  ...  SOMEWHAT FAVORABLY                            GREEDO   \n",
       "\n",
       "   Are you familiar with the Expanded Universe?  \\\n",
       "1                                           YES   \n",
       "2                                           NaN   \n",
       "3                                            NO   \n",
       "4                                            NO   \n",
       "5                                           YES   \n",
       "\n",
       "   Do you consider yourself to be a fan of the Expanded Universe?æ  \\\n",
       "1                                                 NO                  \n",
       "2                                                NaN                  \n",
       "3                                                NaN                  \n",
       "4                                                NaN                  \n",
       "5                                                 NO                  \n",
       "\n",
       "   Do you consider yourself to be a fan of the Star Trek franchise? Gender  \\\n",
       "1                                                 NO                  MALE   \n",
       "2                                                YES                  MALE   \n",
       "3                                                 NO                  MALE   \n",
       "4                                                YES                  MALE   \n",
       "5                                                 NO                  MALE   \n",
       "\n",
       "     Age     Household Income                         Education  \\\n",
       "1  18-29                  NaN                HIGH SCHOOL DEGREE   \n",
       "2  18-29         $0 - $24,999                   BACHELOR DEGREE   \n",
       "3  18-29         $0 - $24,999                HIGH SCHOOL DEGREE   \n",
       "4  18-29  $100,000 - $149,999  SOME COLLEGE OR ASSOCIATE DEGREE   \n",
       "5  18-29  $100,000 - $149,999  SOME COLLEGE OR ASSOCIATE DEGREE   \n",
       "\n",
       "  Location (Census Region)  \n",
       "1           SOUTH ATLANTIC  \n",
       "2       WEST SOUTH CENTRAL  \n",
       "3       WEST NORTH CENTRAL  \n",
       "4       WEST NORTH CENTRAL  \n",
       "5       WEST NORTH CENTRAL  \n",
       "\n",
       "[5 rows x 38 columns]"
      ]
     },
     "execution_count": 39,
     "metadata": {},
     "output_type": "execute_result"
    }
   ],
   "source": [
    "starwarsdf.head()"
   ]
  },
  {
   "cell_type": "code",
   "execution_count": 40,
   "metadata": {},
   "outputs": [
    {
     "data": {
      "text/html": [
       "<div>\n",
       "<style scoped>\n",
       "    .dataframe tbody tr th:only-of-type {\n",
       "        vertical-align: middle;\n",
       "    }\n",
       "\n",
       "    .dataframe tbody tr th {\n",
       "        vertical-align: top;\n",
       "    }\n",
       "\n",
       "    .dataframe thead th {\n",
       "        text-align: right;\n",
       "    }\n",
       "</style>\n",
       "<table border=\"1\" class=\"dataframe\">\n",
       "  <thead>\n",
       "    <tr style=\"text-align: right;\">\n",
       "      <th></th>\n",
       "      <th>RespondentID</th>\n",
       "      <th>Have you seen any of the 6 films in the Star Wars franchise?</th>\n",
       "      <th>Do you consider yourself to be a fan of the Star Wars film franchise?</th>\n",
       "      <th>Seen1</th>\n",
       "      <th>Seen2</th>\n",
       "      <th>Seen3</th>\n",
       "      <th>Seen4</th>\n",
       "      <th>Seen5</th>\n",
       "      <th>Seen6</th>\n",
       "      <th>Ranking1</th>\n",
       "      <th>...</th>\n",
       "      <th>Unnamed: 28</th>\n",
       "      <th>Which character shot first?</th>\n",
       "      <th>Are you familiar with the Expanded Universe?</th>\n",
       "      <th>Do you consider yourself to be a fan of the Expanded Universe?æ</th>\n",
       "      <th>Do you consider yourself to be a fan of the Star Trek franchise?</th>\n",
       "      <th>Gender</th>\n",
       "      <th>Age</th>\n",
       "      <th>Household Income</th>\n",
       "      <th>Education</th>\n",
       "      <th>Location (Census Region)</th>\n",
       "    </tr>\n",
       "  </thead>\n",
       "  <tbody>\n",
       "  </tbody>\n",
       "</table>\n",
       "<p>0 rows × 38 columns</p>\n",
       "</div>"
      ],
      "text/plain": [
       "Empty DataFrame\n",
       "Columns: [RespondentID, Have you seen any of the 6 films in the Star Wars franchise?, Do you consider yourself to be a fan of the Star Wars film franchise?, Seen1, Seen2, Seen3, Seen4, Seen5, Seen6, Ranking1, Ranking2, Ranking3, Ranking4, Ranking5, Ranking6, Please state whether you view the following characters favorably, unfavorably, or are unfamiliar with him/her., Unnamed: 16, Unnamed: 17, Unnamed: 18, Unnamed: 19, Unnamed: 20, Unnamed: 21, Unnamed: 22, Unnamed: 23, Unnamed: 24, Unnamed: 25, Unnamed: 26, Unnamed: 27, Unnamed: 28, Which character shot first?, Are you familiar with the Expanded Universe?, Do you consider yourself to be a fan of the Expanded Universe?æ, Do you consider yourself to be a fan of the Star Trek franchise?, Gender, Age, Household Income, Education, Location (Census Region)]\n",
       "Index: []\n",
       "\n",
       "[0 rows x 38 columns]"
      ]
     },
     "execution_count": 40,
     "metadata": {},
     "output_type": "execute_result"
    }
   ],
   "source": [
    "\n",
    "starwarsdf = starwarsdf.rename(columns={\n",
    "\"Please rank the Star Wars films in order of preference with 1 being your favorite film in the franchise and 6 being your least favorite film.\": \"Ranking1\",\n",
    "        \"Unnamed: 10\": \"Ranking2\",\n",
    "        \"Unnamed: 11\": \"Ranking3\",\n",
    "        \"Unnamed: 12\": \"Ranking4\",\n",
    "        \"Unnamed: 13\": \"Ranking5\",\n",
    "        \"Unnamed: 14\": \"Ranking6\"\n",
    "        })\n",
    "\n",
    "starwarsdf.head(0)[9:15]"
   ]
  },
  {
   "cell_type": "code",
   "execution_count": 41,
   "metadata": {
    "scrolled": false
   },
   "outputs": [
    {
     "data": {
      "text/plain": [
       "Ranking1    3.732934\n",
       "Ranking2    4.087321\n",
       "Ranking3    4.341317\n",
       "Ranking4    3.272727\n",
       "Ranking5    2.513158\n",
       "Ranking6    3.047847\n",
       "dtype: float64"
      ]
     },
     "execution_count": 41,
     "metadata": {},
     "output_type": "execute_result"
    }
   ],
   "source": [
    "starwarsdf[starwarsdf.columns[9:15]].mean()"
   ]
  },
  {
   "cell_type": "code",
   "execution_count": 42,
   "metadata": {},
   "outputs": [],
   "source": [
    "#2.2: Relationships between columns"
   ]
  },
  {
   "cell_type": "code",
   "execution_count": 43,
   "metadata": {},
   "outputs": [],
   "source": [
    "from IPython.core.interactiveshell import InteractiveShell\n",
    "InteractiveShell.ast_node_interactivity = \"all\""
   ]
  },
  {
   "cell_type": "code",
   "execution_count": 44,
   "metadata": {},
   "outputs": [
    {
     "data": {
      "text/plain": [
       "<matplotlib.axes._subplots.AxesSubplot at 0x2ef5cb3e088>"
      ]
     },
     "execution_count": 44,
     "metadata": {},
     "output_type": "execute_result"
    },
    {
     "data": {
      "image/png": "[encoded data removed]",
      "text/plain": [
       "<Figure size 432x288 with 1 Axes>"
      ]
     },
     "metadata": {},
     "output_type": "display_data"
    }
   ],
   "source": [
    "starwarsdf['Ranking1'].value_counts().plot(kind='pie',autopct='%.2f')"
   ]
  },
  {
   "cell_type": "code",
   "execution_count": 45,
   "metadata": {},
   "outputs": [
    {
     "data": {
      "text/plain": [
       "<matplotlib.axes._subplots.AxesSubplot at 0x2ef5d2abb48>"
      ]
     },
     "execution_count": 45,
     "metadata": {},
     "output_type": "execute_result"
    },
    {
     "data": {
      "image/png": "[encoded data removed]",
      "text/plain": [
       "<Figure size 432x288 with 1 Axes>"
      ]
     },
     "metadata": {},
     "output_type": "display_data"
    }
   ],
   "source": [
    "starwarsdf['Ranking2'].value_counts().plot(kind='pie',autopct='%.2f')"
   ]
  },
  {
   "cell_type": "code",
   "execution_count": 46,
   "metadata": {},
   "outputs": [
    {
     "data": {
      "text/plain": [
       "<matplotlib.axes._subplots.AxesSubplot at 0x2ef5c6d52c8>"
      ]
     },
     "execution_count": 46,
     "metadata": {},
     "output_type": "execute_result"
    },
    {
     "data": {
      "image/png": "[encoded data removed]",
      "text/plain": [
       "<Figure size 432x288 with 1 Axes>"
      ]
     },
     "metadata": {},
     "output_type": "display_data"
    }
   ],
   "source": [
    "starwarsdf['Ranking3'].value_counts().plot(kind='pie',autopct='%.2f')"
   ]
  },
  {
   "cell_type": "code",
   "execution_count": 47,
   "metadata": {},
   "outputs": [
    {
     "data": {
      "text/plain": [
       "<matplotlib.axes._subplots.AxesSubplot at 0x2ef5d37e148>"
      ]
     },
     "execution_count": 47,
     "metadata": {},
     "output_type": "execute_result"
    },
    {
     "data": {
      "image/png": "[encoded data removed]",
      "text/plain": [
       "<Figure size 432x288 with 1 Axes>"
      ]
     },
     "metadata": {},
     "output_type": "display_data"
    }
   ],
   "source": [
    "starwarsdf['Ranking4'].value_counts().plot(kind='pie',autopct='%.2f')"
   ]
  },
  {
   "cell_type": "code",
   "execution_count": 48,
   "metadata": {},
   "outputs": [
    {
     "data": {
      "text/plain": [
       "<matplotlib.axes._subplots.AxesSubplot at 0x2ef5d3e63c8>"
      ]
     },
     "execution_count": 48,
     "metadata": {},
     "output_type": "execute_result"
    },
    {
     "data": {
      "image/png": "[encoded data removed]",
      "text/plain": [
       "<Figure size 432x288 with 1 Axes>"
      ]
     },
     "metadata": {},
     "output_type": "display_data"
    }
   ],
   "source": [
    "starwarsdf['Ranking5'].value_counts().plot(kind='pie',autopct='%.2f')"
   ]
  },
  {
   "cell_type": "code",
   "execution_count": 49,
   "metadata": {
    "scrolled": false
   },
   "outputs": [
    {
     "data": {
      "text/plain": [
       "<matplotlib.axes._subplots.AxesSubplot at 0x2ef5d443688>"
      ]
     },
     "execution_count": 49,
     "metadata": {},
     "output_type": "execute_result"
    },
    {
     "data": {
      "image/png": "[encoded data removed]",
      "text/plain": [
       "<Figure size 432x288 with 1 Axes>"
      ]
     },
     "metadata": {},
     "output_type": "display_data"
    }
   ],
   "source": [
    "starwarsdf['Ranking6'].value_counts().plot(kind='pie',autopct='%.2f')"
   ]
  },
  {
   "cell_type": "code",
   "execution_count": 50,
   "metadata": {},
   "outputs": [
    {
     "data": {
      "text/plain": [
       "<matplotlib.axes._subplots.AxesSubplot at 0x2ef5d4a8fc8>"
      ]
     },
     "execution_count": 50,
     "metadata": {},
     "output_type": "execute_result"
    },
    {
     "ename": "NameError",
     "evalue": "name 'plt' is not defined",
     "output_type": "error",
     "traceback": [
      "\u001b[1;31m---------------------------------------------------------------------------\u001b[0m",
      "\u001b[1;31mNameError\u001b[0m                                 Traceback (most recent call last)",
      "\u001b[1;32m<ipython-input-50-1eaab1d8d409>\u001b[0m in \u001b[0;36m<module>\u001b[1;34m\u001b[0m\n\u001b[0;32m      1\u001b[0m \u001b[0mstarwarsdf\u001b[0m\u001b[1;33m[\u001b[0m\u001b[1;34m'Ranking1'\u001b[0m\u001b[1;33m]\u001b[0m\u001b[1;33m.\u001b[0m\u001b[0mplot\u001b[0m\u001b[1;33m(\u001b[0m\u001b[0mkind\u001b[0m\u001b[1;33m=\u001b[0m\u001b[1;34m'hist'\u001b[0m\u001b[1;33m,\u001b[0m\u001b[0mbins\u001b[0m\u001b[1;33m=\u001b[0m\u001b[1;36m10\u001b[0m\u001b[1;33m)\u001b[0m\u001b[1;33m\u001b[0m\u001b[1;33m\u001b[0m\u001b[0m\n\u001b[1;32m----> 2\u001b[1;33m \u001b[0mplt\u001b[0m\u001b[1;33m.\u001b[0m\u001b[0mtitle\u001b[0m\u001b[1;33m(\u001b[0m\u001b[1;34m'Ranking1'\u001b[0m\u001b[1;33m)\u001b[0m\u001b[1;33m\u001b[0m\u001b[1;33m\u001b[0m\u001b[0m\n\u001b[0m\u001b[0;32m      3\u001b[0m \u001b[0mplt\u001b[0m\u001b[1;33m.\u001b[0m\u001b[0mxlabel\u001b[0m\u001b[1;33m(\u001b[0m\u001b[1;34m'ranks'\u001b[0m\u001b[1;33m)\u001b[0m\u001b[1;33m\u001b[0m\u001b[1;33m\u001b[0m\u001b[0m\n",
      "\u001b[1;31mNameError\u001b[0m: name 'plt' is not defined"
     ]
    },
    {
     "data": {
      "image/png": "[encoded data removed]",
      "text/plain": [
       "<Figure size 432x288 with 1 Axes>"
      ]
     },
     "metadata": {
      "needs_background": "light"
     },
     "output_type": "display_data"
    }
   ],
   "source": [
    "starwarsdf['Ranking1'].plot(kind='hist',bins=10)\n",
    "plt.title('Ranking1')\n",
    "plt.xlabel('ranks')"
   ]
  },
  {
   "cell_type": "code",
   "execution_count": 51,
   "metadata": {},
   "outputs": [],
   "source": [
    "# Task 2: Data Exploration\n",
    "# 1. Explore the survey question: \\textit{Please rank the Star Wars films in order of preference with 1 being your favorite film in the franchise and 6 being your least favorite film.\t(Star Wars: Episode I  The Phantom Menace; Star Wars: Episode II  Attack of the Clones; Star Wars: Episode III  Revenge of the Sith;\tStar Wars: Episode IV  A New Hope; Star Wars: Episode V The Empire Strikes Back; Star Wars: Episode VI Return of the Jedi)}, then analysis how people rate Star Wars Movies. \n",
    "\n",
    "\n",
    "#Code goes after this line by adding cells"
   ]
  },
  {
   "cell_type": "code",
   "execution_count": 52,
   "metadata": {},
   "outputs": [],
   "source": [
    "import matplotlib.pyplot as plt"
   ]
  },
  {
   "cell_type": "code",
   "execution_count": 53,
   "metadata": {},
   "outputs": [
    {
     "data": {
      "text/plain": [
       "<BarContainer object of 6 artists>"
      ]
     },
     "execution_count": 53,
     "metadata": {},
     "output_type": "execute_result"
    },
    {
     "data": {
      "image/png": "[encoded data removed]",
      "text/plain": [
       "<Figure size 432x288 with 1 Axes>"
      ]
     },
     "metadata": {
      "needs_background": "light"
     },
     "output_type": "display_data"
    }
   ],
   "source": [
    "plt.bar(range(6), starwarsdf[starwarsdf.columns[9:15]].mean())"
   ]
  },
  {
   "cell_type": "code",
   "execution_count": 54,
   "metadata": {
    "scrolled": true
   },
   "outputs": [
    {
     "data": {
      "text/plain": [
       "<BarContainer object of 6 artists>"
      ]
     },
     "execution_count": 54,
     "metadata": {},
     "output_type": "execute_result"
    },
    {
     "data": {
      "image/png": "[encoded data removed]",
      "text/plain": [
       "<Figure size 432x288 with 1 Axes>"
      ]
     },
     "metadata": {
      "needs_background": "light"
     },
     "output_type": "display_data"
    }
   ],
   "source": [
    "plt.bar(range(6), starwarsdf[starwarsdf.columns[9:15]].sum())"
   ]
  },
  {
   "cell_type": "code",
   "execution_count": 55,
   "metadata": {},
   "outputs": [],
   "source": [
    "males = starwarsdf[starwarsdf[\"Gender\"] == \"Male\"]\n",
    "females = starwarsdf[starwarsdf[\"Gender\"] == \"Female\"]"
   ]
  },
  {
   "cell_type": "code",
   "execution_count": 56,
   "metadata": {
    "scrolled": true
   },
   "outputs": [
    {
     "data": {
      "text/plain": [
       "<BarContainer object of 6 artists>"
      ]
     },
     "execution_count": 56,
     "metadata": {},
     "output_type": "execute_result"
    },
    {
     "data": {
      "image/png": "[encoded data removed]",
      "text/plain": [
       "<Figure size 432x288 with 1 Axes>"
      ]
     },
     "metadata": {
      "needs_background": "light"
     },
     "output_type": "display_data"
    }
   ],
   "source": [
    "plt.bar(range(6), starwarsdf[males.columns[9:15]].sum())"
   ]
  },
  {
   "cell_type": "code",
   "execution_count": 57,
   "metadata": {
    "scrolled": true
   },
   "outputs": [
    {
     "data": {
      "text/plain": [
       "<BarContainer object of 6 artists>"
      ]
     },
     "execution_count": 57,
     "metadata": {},
     "output_type": "execute_result"
    },
    {
     "data": {
      "image/png": "[encoded data removed]",
      "text/plain": [
       "<Figure size 432x288 with 1 Axes>"
      ]
     },
     "metadata": {
      "needs_background": "light"
     },
     "output_type": "display_data"
    }
   ],
   "source": [
    "plt.bar(range(6), starwarsdf[males.columns[9:15]].mean())"
   ]
  },
  {
   "cell_type": "code",
   "execution_count": 58,
   "metadata": {},
   "outputs": [
    {
     "data": {
      "text/plain": [
       "<BarContainer object of 6 artists>"
      ]
     },
     "execution_count": 58,
     "metadata": {},
     "output_type": "execute_result"
    },
    {
     "data": {
      "image/png": "[encoded data removed]",
      "text/plain": [
       "<Figure size 432x288 with 1 Axes>"
      ]
     },
     "metadata": {
      "needs_background": "light"
     },
     "output_type": "display_data"
    }
   ],
   "source": [
    "plt.bar(range(6), starwarsdf[females.columns[9:15]].sum())"
   ]
  },
  {
   "cell_type": "code",
   "execution_count": 59,
   "metadata": {},
   "outputs": [
    {
     "data": {
      "text/plain": [
       "<BarContainer object of 6 artists>"
      ]
     },
     "execution_count": 59,
     "metadata": {},
     "output_type": "execute_result"
    },
    {
     "data": {
      "image/png": "[encoded data removed]",
      "text/plain": [
       "<Figure size 432x288 with 1 Axes>"
      ]
     },
     "metadata": {
      "needs_background": "light"
     },
     "output_type": "display_data"
    }
   ],
   "source": [
    "plt.bar(range(6), starwarsdf[females.columns[9:15]].mean())"
   ]
  },
  {
   "cell_type": "code",
   "execution_count": 60,
   "metadata": {},
   "outputs": [],
   "source": [
    "fans= starwarsdf[starwarsdf[\"Do you consider yourself to be a fan of the Star Wars film franchise?\"] == True]\n",
    "not_a_fan= starwarsdf[starwarsdf[\"Do you consider yourself to be a fan of the Star Wars film franchise?\"] == False]"
   ]
  },
  {
   "cell_type": "code",
   "execution_count": 61,
   "metadata": {},
   "outputs": [
    {
     "data": {
      "text/plain": [
       "<BarContainer object of 6 artists>"
      ]
     },
     "execution_count": 61,
     "metadata": {},
     "output_type": "execute_result"
    },
    {
     "data": {
      "image/png": "[encoded data removed]",
      "text/plain": [
       "<Figure size 432x288 with 1 Axes>"
      ]
     },
     "metadata": {
      "needs_background": "light"
     },
     "output_type": "display_data"
    }
   ],
   "source": [
    "plt.bar(range(6), starwarsdf[fans.columns[9:15]].sum())"
   ]
  },
  {
   "cell_type": "code",
   "execution_count": 62,
   "metadata": {},
   "outputs": [
    {
     "data": {
      "text/plain": [
       "<BarContainer object of 6 artists>"
      ]
     },
     "execution_count": 62,
     "metadata": {},
     "output_type": "execute_result"
    },
    {
     "data": {
      "image/png": "[encoded data removed]",
      "text/plain": [
       "<Figure size 432x288 with 1 Axes>"
      ]
     },
     "metadata": {
      "needs_background": "light"
     },
     "output_type": "display_data"
    }
   ],
   "source": [
    "plt.bar(range(6), starwarsdf[fans.columns[9:15]].mean())"
   ]
  },
  {
   "cell_type": "code",
   "execution_count": 63,
   "metadata": {
    "scrolled": false
   },
   "outputs": [
    {
     "data": {
      "text/plain": [
       "<BarContainer object of 6 artists>"
      ]
     },
     "execution_count": 63,
     "metadata": {},
     "output_type": "execute_result"
    },
    {
     "data": {
      "image/png": "[encoded data removed]",
      "text/plain": [
       "<Figure size 432x288 with 1 Axes>"
      ]
     },
     "metadata": {
      "needs_background": "light"
     },
     "output_type": "display_data"
    }
   ],
   "source": [
    "plt.bar(range(6), starwarsdf[not_a_fan.columns[9:15]].sum())"
   ]
  },
  {
   "cell_type": "code",
   "execution_count": 64,
   "metadata": {},
   "outputs": [
    {
     "data": {
      "text/plain": [
       "<BarContainer object of 6 artists>"
      ]
     },
     "execution_count": 64,
     "metadata": {},
     "output_type": "execute_result"
    },
    {
     "data": {
      "image/png": "[encoded data removed]",
      "text/plain": [
       "<Figure size 432x288 with 1 Axes>"
      ]
     },
     "metadata": {
      "needs_background": "light"
     },
     "output_type": "display_data"
    }
   ],
   "source": [
    "plt.bar(range(6), starwarsdf[not_a_fan.columns[9:15]].mean())"
   ]
  },
  {
   "cell_type": "code",
   "execution_count": 65,
   "metadata": {},
   "outputs": [],
   "source": [
    "startrekfans= starwarsdf[starwarsdf[\"Do you consider yourself to be a fan of the Star Trek franchise?\"] == True]\n",
    "nonstartrekfans = starwarsdf[starwarsdf[\"Do you consider yourself to be a fan of the Star Trek franchise?\"] == False]"
   ]
  },
  {
   "cell_type": "code",
   "execution_count": 66,
   "metadata": {},
   "outputs": [
    {
     "data": {
      "text/plain": [
       "<BarContainer object of 6 artists>"
      ]
     },
     "execution_count": 66,
     "metadata": {},
     "output_type": "execute_result"
    },
    {
     "data": {
      "image/png": "[encoded data removed]",
      "text/plain": [
       "<Figure size 432x288 with 1 Axes>"
      ]
     },
     "metadata": {
      "needs_background": "light"
     },
     "output_type": "display_data"
    }
   ],
   "source": [
    "plt.bar(range(6), starwarsdf[startrekfans.columns[9:15]].mean())"
   ]
  },
  {
   "cell_type": "code",
   "execution_count": 67,
   "metadata": {},
   "outputs": [
    {
     "data": {
      "text/plain": [
       "<BarContainer object of 6 artists>"
      ]
     },
     "execution_count": 67,
     "metadata": {},
     "output_type": "execute_result"
    },
    {
     "data": {
      "image/png": "[encoded data removed]",
      "text/plain": [
       "<Figure size 432x288 with 1 Axes>"
      ]
     },
     "metadata": {
      "needs_background": "light"
     },
     "output_type": "display_data"
    }
   ],
   "source": [
    "plt.bar(range(6), starwarsdf[startrekfans.columns[9:15]].sum())"
   ]
  },
  {
   "cell_type": "code",
   "execution_count": 68,
   "metadata": {},
   "outputs": [
    {
     "data": {
      "text/plain": [
       "<BarContainer object of 6 artists>"
      ]
     },
     "execution_count": 68,
     "metadata": {},
     "output_type": "execute_result"
    },
    {
     "data": {
      "image/png": "[encoded data removed]",
      "text/plain": [
       "<Figure size 432x288 with 1 Axes>"
      ]
     },
     "metadata": {
      "needs_background": "light"
     },
     "output_type": "display_data"
    }
   ],
   "source": [
    "plt.bar(range(6), starwarsdf[nonstartrekfans.columns[9:15]].mean())\n"
   ]
  },
  {
   "cell_type": "code",
   "execution_count": 69,
   "metadata": {},
   "outputs": [
    {
     "data": {
      "text/plain": [
       "<BarContainer object of 6 artists>"
      ]
     },
     "execution_count": 69,
     "metadata": {},
     "output_type": "execute_result"
    },
    {
     "data": {
      "image/png": "[encoded data removed]",
      "text/plain": [
       "<Figure size 432x288 with 1 Axes>"
      ]
     },
     "metadata": {
      "needs_background": "light"
     },
     "output_type": "display_data"
    }
   ],
   "source": [
    "plt.bar(range(6), starwarsdf[nonstartrekfans.columns[9:15]].sum())\n"
   ]
  },
  {
   "cell_type": "code",
   "execution_count": 70,
   "metadata": {},
   "outputs": [],
   "source": [
    "# Task 2: Data Exploration\n",
    "# 3. Explore whether there are relationship between people's demographics (Gender, Age, Household Income, Education, Location) and their attitude to Start War characters. "
   ]
  },
  {
   "cell_type": "code",
   "execution_count": 71,
   "metadata": {},
   "outputs": [
    {
     "data": {
      "text/plain": [
       "FEMALE    549\n",
       "MALE      497\n",
       "Name: Gender, dtype: int64"
      ]
     },
     "execution_count": 71,
     "metadata": {},
     "output_type": "execute_result"
    }
   ],
   "source": [
    "starwarsdf['Gender'].value_counts()"
   ]
  },
  {
   "cell_type": "code",
   "execution_count": 72,
   "metadata": {},
   "outputs": [
    {
     "data": {
      "text/plain": [
       "45-60    291\n",
       "> 60     269\n",
       "30-44    268\n",
       "18-29    217\n",
       "Name: Age, dtype: int64"
      ]
     },
     "execution_count": 72,
     "metadata": {},
     "output_type": "execute_result"
    }
   ],
   "source": [
    "starwarsdf['Age'].value_counts()"
   ]
  },
  {
   "cell_type": "code",
   "execution_count": 73,
   "metadata": {},
   "outputs": [
    {
     "data": {
      "text/plain": [
       "$50,000 - $99,999      298\n",
       "$25,000 - $49,999      186\n",
       "$100,000 - $149,999    141\n",
       "$0 - $24,999           138\n",
       "$150,000+               95\n",
       "Name: Household Income, dtype: int64"
      ]
     },
     "execution_count": 73,
     "metadata": {},
     "output_type": "execute_result"
    }
   ],
   "source": [
    "starwarsdf['Household Income'].value_counts()"
   ]
  },
  {
   "cell_type": "code",
   "execution_count": 74,
   "metadata": {},
   "outputs": [
    {
     "data": {
      "text/plain": [
       "SOME COLLEGE OR ASSOCIATE DEGREE    328\n",
       "BACHELOR DEGREE                     321\n",
       "GRADUATE DEGREE                     275\n",
       "HIGH SCHOOL DEGREE                  105\n",
       "LESS THAN HIGH SCHOOL DEGREE          7\n",
       "Name: Education, dtype: int64"
      ]
     },
     "execution_count": 74,
     "metadata": {},
     "output_type": "execute_result"
    }
   ],
   "source": [
    "starwarsdf['Education'].value_counts()"
   ]
  },
  {
   "cell_type": "code",
   "execution_count": 75,
   "metadata": {},
   "outputs": [
    {
     "data": {
      "text/plain": [
       "EAST NORTH CENTRAL    181\n",
       "PACIFIC               175\n",
       "SOUTH ATLANTIC        170\n",
       "MIDDLE ATLANTIC       122\n",
       "WEST SOUTH CENTRAL    110\n",
       "WEST NORTH CENTRAL     93\n",
       "MOUNTAIN               79\n",
       "NEW ENGLAND            75\n",
       "EAST SOUTH CENTRAL     38\n",
       "Name: Location (Census Region), dtype: int64"
      ]
     },
     "execution_count": 75,
     "metadata": {},
     "output_type": "execute_result"
    }
   ],
   "source": [
    "starwarsdf['Location (Census Region)'].value_counts()"
   ]
  },
  {
   "cell_type": "code",
   "execution_count": 76,
   "metadata": {},
   "outputs": [
    {
     "data": {
      "text/html": [
       "<div>\n",
       "<style scoped>\n",
       "    .dataframe tbody tr th:only-of-type {\n",
       "        vertical-align: middle;\n",
       "    }\n",
       "\n",
       "    .dataframe tbody tr th {\n",
       "        vertical-align: top;\n",
       "    }\n",
       "\n",
       "    .dataframe thead th {\n",
       "        text-align: right;\n",
       "    }\n",
       "</style>\n",
       "<table border=\"1\" class=\"dataframe\">\n",
       "  <thead>\n",
       "    <tr style=\"text-align: right;\">\n",
       "      <th></th>\n",
       "      <th>Please state whether you view the following characters favorably, unfavorably, or are unfamiliar with him/her.</th>\n",
       "      <th>Unnamed: 16</th>\n",
       "      <th>Unnamed: 17</th>\n",
       "      <th>Unnamed: 18</th>\n",
       "      <th>Unnamed: 19</th>\n",
       "      <th>Unnamed: 20</th>\n",
       "      <th>Unnamed: 21</th>\n",
       "      <th>Unnamed: 22</th>\n",
       "      <th>Unnamed: 23</th>\n",
       "      <th>Unnamed: 24</th>\n",
       "      <th>Unnamed: 25</th>\n",
       "      <th>Unnamed: 26</th>\n",
       "      <th>Unnamed: 27</th>\n",
       "      <th>Unnamed: 28</th>\n",
       "    </tr>\n",
       "  </thead>\n",
       "  <tbody>\n",
       "    <tr>\n",
       "      <th>1</th>\n",
       "      <td>VERY FAVORABLY</td>\n",
       "      <td>VERY FAVORABLY</td>\n",
       "      <td>VERY FAVORABLY</td>\n",
       "      <td>VERY FAVORABLY</td>\n",
       "      <td>VERY FAVORABLY</td>\n",
       "      <td>VERY FAVORABLY</td>\n",
       "      <td>VERY FAVORABLY</td>\n",
       "      <td>UNFAMILIAR (N/A)</td>\n",
       "      <td>UNFAMILIAR (N/A)</td>\n",
       "      <td>VERY FAVORABLY</td>\n",
       "      <td>VERY FAVORABLY</td>\n",
       "      <td>VERY FAVORABLY</td>\n",
       "      <td>VERY FAVORABLY</td>\n",
       "      <td>VERY FAVORABLY</td>\n",
       "    </tr>\n",
       "    <tr>\n",
       "      <th>2</th>\n",
       "      <td>NaN</td>\n",
       "      <td>NaN</td>\n",
       "      <td>NaN</td>\n",
       "      <td>NaN</td>\n",
       "      <td>NaN</td>\n",
       "      <td>NaN</td>\n",
       "      <td>NaN</td>\n",
       "      <td>NaN</td>\n",
       "      <td>NaN</td>\n",
       "      <td>NaN</td>\n",
       "      <td>NaN</td>\n",
       "      <td>NaN</td>\n",
       "      <td>NaN</td>\n",
       "      <td>NaN</td>\n",
       "    </tr>\n",
       "    <tr>\n",
       "      <th>3</th>\n",
       "      <td>SOMEWHAT FAVORABLY</td>\n",
       "      <td>SOMEWHAT FAVORABLY</td>\n",
       "      <td>SOMEWHAT FAVORABLY</td>\n",
       "      <td>SOMEWHAT FAVORABLY</td>\n",
       "      <td>SOMEWHAT FAVORABLY</td>\n",
       "      <td>UNFAMILIAR (N/A)</td>\n",
       "      <td>UNFAMILIAR (N/A)</td>\n",
       "      <td>UNFAMILIAR (N/A)</td>\n",
       "      <td>UNFAMILIAR (N/A)</td>\n",
       "      <td>UNFAMILIAR (N/A)</td>\n",
       "      <td>UNFAMILIAR (N/A)</td>\n",
       "      <td>UNFAMILIAR (N/A)</td>\n",
       "      <td>UNFAMILIAR (N/A)</td>\n",
       "      <td>UNFAMILIAR (N/A)</td>\n",
       "    </tr>\n",
       "    <tr>\n",
       "      <th>4</th>\n",
       "      <td>VERY FAVORABLY</td>\n",
       "      <td>VERY FAVORABLY</td>\n",
       "      <td>VERY FAVORABLY</td>\n",
       "      <td>VERY FAVORABLY</td>\n",
       "      <td>VERY FAVORABLY</td>\n",
       "      <td>SOMEWHAT FAVORABLY</td>\n",
       "      <td>VERY FAVORABLY</td>\n",
       "      <td>SOMEWHAT FAVORABLY</td>\n",
       "      <td>SOMEWHAT UNFAVORABLY</td>\n",
       "      <td>VERY FAVORABLY</td>\n",
       "      <td>VERY FAVORABLY</td>\n",
       "      <td>VERY FAVORABLY</td>\n",
       "      <td>VERY FAVORABLY</td>\n",
       "      <td>VERY FAVORABLY</td>\n",
       "    </tr>\n",
       "    <tr>\n",
       "      <th>5</th>\n",
       "      <td>VERY FAVORABLY</td>\n",
       "      <td>SOMEWHAT FAVORABLY</td>\n",
       "      <td>SOMEWHAT FAVORABLY</td>\n",
       "      <td>SOMEWHAT UNFAVORABLY</td>\n",
       "      <td>VERY FAVORABLY</td>\n",
       "      <td>VERY UNFAVORABLY</td>\n",
       "      <td>SOMEWHAT FAVORABLY</td>\n",
       "      <td>NEITHER FAVORABLY NOR UNFAVORABLY (NEUTRAL)</td>\n",
       "      <td>VERY FAVORABLY</td>\n",
       "      <td>SOMEWHAT FAVORABLY</td>\n",
       "      <td>SOMEWHAT FAVORABLY</td>\n",
       "      <td>VERY UNFAVORABLY</td>\n",
       "      <td>SOMEWHAT FAVORABLY</td>\n",
       "      <td>SOMEWHAT FAVORABLY</td>\n",
       "    </tr>\n",
       "  </tbody>\n",
       "</table>\n",
       "</div>"
      ],
      "text/plain": [
       "  Please state whether you view the following characters favorably, unfavorably, or are unfamiliar with him/her.  \\\n",
       "1                                     VERY FAVORABLY                                                               \n",
       "2                                                NaN                                                               \n",
       "3                                 SOMEWHAT FAVORABLY                                                               \n",
       "4                                     VERY FAVORABLY                                                               \n",
       "5                                     VERY FAVORABLY                                                               \n",
       "\n",
       "          Unnamed: 16         Unnamed: 17           Unnamed: 18  \\\n",
       "1      VERY FAVORABLY      VERY FAVORABLY        VERY FAVORABLY   \n",
       "2                 NaN                 NaN                   NaN   \n",
       "3  SOMEWHAT FAVORABLY  SOMEWHAT FAVORABLY    SOMEWHAT FAVORABLY   \n",
       "4      VERY FAVORABLY      VERY FAVORABLY        VERY FAVORABLY   \n",
       "5  SOMEWHAT FAVORABLY  SOMEWHAT FAVORABLY  SOMEWHAT UNFAVORABLY   \n",
       "\n",
       "          Unnamed: 19         Unnamed: 20         Unnamed: 21  \\\n",
       "1      VERY FAVORABLY      VERY FAVORABLY      VERY FAVORABLY   \n",
       "2                 NaN                 NaN                 NaN   \n",
       "3  SOMEWHAT FAVORABLY    UNFAMILIAR (N/A)    UNFAMILIAR (N/A)   \n",
       "4      VERY FAVORABLY  SOMEWHAT FAVORABLY      VERY FAVORABLY   \n",
       "5      VERY FAVORABLY    VERY UNFAVORABLY  SOMEWHAT FAVORABLY   \n",
       "\n",
       "                                   Unnamed: 22           Unnamed: 23  \\\n",
       "1                             UNFAMILIAR (N/A)      UNFAMILIAR (N/A)   \n",
       "2                                          NaN                   NaN   \n",
       "3                             UNFAMILIAR (N/A)      UNFAMILIAR (N/A)   \n",
       "4                           SOMEWHAT FAVORABLY  SOMEWHAT UNFAVORABLY   \n",
       "5  NEITHER FAVORABLY NOR UNFAVORABLY (NEUTRAL)        VERY FAVORABLY   \n",
       "\n",
       "          Unnamed: 24         Unnamed: 25       Unnamed: 26  \\\n",
       "1      VERY FAVORABLY      VERY FAVORABLY    VERY FAVORABLY   \n",
       "2                 NaN                 NaN               NaN   \n",
       "3    UNFAMILIAR (N/A)    UNFAMILIAR (N/A)  UNFAMILIAR (N/A)   \n",
       "4      VERY FAVORABLY      VERY FAVORABLY    VERY FAVORABLY   \n",
       "5  SOMEWHAT FAVORABLY  SOMEWHAT FAVORABLY  VERY UNFAVORABLY   \n",
       "\n",
       "          Unnamed: 27         Unnamed: 28  \n",
       "1      VERY FAVORABLY      VERY FAVORABLY  \n",
       "2                 NaN                 NaN  \n",
       "3    UNFAMILIAR (N/A)    UNFAMILIAR (N/A)  \n",
       "4      VERY FAVORABLY      VERY FAVORABLY  \n",
       "5  SOMEWHAT FAVORABLY  SOMEWHAT FAVORABLY  "
      ]
     },
     "execution_count": 76,
     "metadata": {},
     "output_type": "execute_result"
    }
   ],
   "source": [
    "starwarsdf[starwarsdf.columns[15:29]][:5]"
   ]
  },
  {
   "cell_type": "code",
   "execution_count": 77,
   "metadata": {},
   "outputs": [],
   "source": [
    "starwarsdf = starwarsdf.rename(columns={\n",
    "        \"Please state whether you view the following characters favorably, unfavorably, or are unfamiliar with him/her.\":\"Rate_Han_Solo\",\n",
    "       \"Unnamed: 16\":\"Rate_Luke_Skywalker\",\n",
    "        \"Unnamed: 17\":\"Rate_Princess_Leia_Organa\",\n",
    "        \"Unnamed: 18\":\"Rate_Anakin_Skywalker\",\n",
    "        \"Unnamed: 19\":\"Rate_Obi_Wan_Kenobi\",\n",
    "        \"Unnamed: 20\":\"Rate_Emperor_Palpatine\",\n",
    "        \"Unnamed: 21\":\"Rate_Darth_Vader\",\n",
    "        \"Unnamed: 22\":\"Rate_Lando_Calrissian\",\n",
    "        \"Unnamed: 23\":\"Rate_Boba_Fett\",\n",
    "        \"Unnamed: 24\":\"Rate_C-3P0\",\n",
    "        \"Unnamed: 25\":\"Rate_R2_D2\",\n",
    "        \"Unnamed: 26\":\"Rate_Jar_Binks\",\n",
    "        \"Unnamed: 27\":\"Rate_Padme_Amidala\",\n",
    "        \"Unnamed: 28\":\"Rate_Yoda\"    \n",
    "        })"
   ]
  },
  {
   "cell_type": "code",
   "execution_count": 78,
   "metadata": {},
   "outputs": [],
   "source": [
    "favorable_response ={}"
   ]
  },
  {
   "cell_type": "code",
   "execution_count": 79,
   "metadata": {},
   "outputs": [],
   "source": [
    "favorable_response['Han_Solo'] = starwarsdf['Rate_Han_Solo'].value_counts()['VERY FAVORABLY']\n",
    "favorable_response['Luke_Skywalker'] = starwarsdf['Rate_Luke_Skywalker'].value_counts()['VERY FAVORABLY']\n",
    "favorable_response['Han_Solo'] = starwarsdf['Rate_Han_Solo'].value_counts()['VERY FAVORABLY']\n",
    "favorable_response['Princess_Leia_Organa'] = starwarsdf['Rate_Princess_Leia_Organa'].value_counts()['VERY FAVORABLY']\n",
    "favorable_response['Obi_Wan_Kenobi'] = starwarsdf['Rate_Obi_Wan_Kenobi'].value_counts()['VERY FAVORABLY']\n",
    "favorable_response['Emperor_Palpatine'] = starwarsdf['Rate_Emperor_Palpatine'].value_counts()['VERY FAVORABLY']\n",
    "favorable_response['Darth_Vader'] = starwarsdf['Rate_Darth_Vader'].value_counts()['VERY FAVORABLY']\n",
    "favorable_response['Lando_Calrissian'] = starwarsdf['Rate_Lando_Calrissian'].value_counts()['VERY FAVORABLY']\n",
    "favorable_response['Boba_Fett'] = starwarsdf['Rate_Boba_Fett'].value_counts()['VERY FAVORABLY']\n",
    "favorable_response['C-3P0'] = starwarsdf['Rate_C-3P0'].value_counts()['VERY FAVORABLY']\n",
    "favorable_response['Jar_Binks'] = starwarsdf['Rate_Jar_Binks'].value_counts()['VERY FAVORABLY']\n",
    "favorable_response['R2_D2'] = starwarsdf['Rate_R2_D2'].value_counts()['VERY FAVORABLY']\n",
    "favorable_response['Padme_Amidala'] = starwarsdf['Rate_Padme_Amidala'].value_counts()['VERY FAVORABLY']\n",
    "favorable_response['Yoda'] = starwarsdf['Rate_Yoda'].value_counts()['VERY FAVORABLY']\n"
   ]
  },
  {
   "cell_type": "code",
   "execution_count": 80,
   "metadata": {},
   "outputs": [
    {
     "data": {
      "text/plain": [
       "{'Han_Solo': 610,\n",
       " 'Luke_Skywalker': 552,\n",
       " 'Princess_Leia_Organa': 547,\n",
       " 'Obi_Wan_Kenobi': 591,\n",
       " 'Emperor_Palpatine': 110,\n",
       " 'Darth_Vader': 310,\n",
       " 'Lando_Calrissian': 142,\n",
       " 'Boba_Fett': 138,\n",
       " 'C-3P0': 474,\n",
       " 'Jar_Binks': 112,\n",
       " 'R2_D2': 562,\n",
       " 'Padme_Amidala': 168,\n",
       " 'Yoda': 605}"
      ]
     },
     "execution_count": 80,
     "metadata": {},
     "output_type": "execute_result"
    }
   ],
   "source": [
    "favorable_response"
   ]
  },
  {
   "cell_type": "code",
   "execution_count": 81,
   "metadata": {},
   "outputs": [],
   "source": [
    "Unfavourable_response ={}"
   ]
  },
  {
   "cell_type": "code",
   "execution_count": 82,
   "metadata": {},
   "outputs": [],
   "source": [
    "Unfavourable_responseUnfavourable_response ={}['Han_Solo'] = starwarsdf['Rate_Han_Solo'].value_counts()['VERY UNFAVORABLY']\n",
    "Unfavourable_response['Luke_Skywalker'] = starwarsdf['Rate_Luke_Skywalker'].value_counts()['VERY UNFAVORABLY']\n",
    "Unfavourable_response['Han_Solo'] = starwarsdf['Rate_Han_Solo'].value_counts()['VERY UNFAVORABLY']\n",
    "Unfavourable_response['Princess_Leia_Organa'] = starwarsdf['Rate_Princess_Leia_Organa'].value_counts()['VERY UNFAVORABLY']\n",
    "Unfavourable_response['Obi_Wan_Kenobi'] = starwarsdf['Rate_Obi_Wan_Kenobi'].value_counts()['VERY UNFAVORABLY']\n",
    "Unfavourable_response['Emperor_Palpatine'] = starwarsdf['Rate_Emperor_Palpatine'].value_counts()['VERY UNFAVORABLY']\n",
    "Unfavourable_response['Darth_Vader'] = starwarsdf['Rate_Darth_Vader'].value_counts()['VERY UNFAVORABLY']\n",
    "Unfavourable_response['Lando_Calrissian'] = starwarsdf['Rate_Lando_Calrissian'].value_counts()['VERY UNFAVORABLY']\n",
    "Unfavourable_response['Boba_Fett'] = starwarsdf['Rate_Boba_Fett'].value_counts()['VERY UNFAVORABLY']\n",
    "Unfavourable_response['C-3P0'] = starwarsdf['Rate_C-3P0'].value_counts()['VERY UNFAVORABLY']\n",
    "Unfavourable_response['Jar_Binks'] = starwarsdf['Rate_Jar_Binks'].value_counts()['VERY UNFAVORABLY']\n",
    "Unfavourable_response['R2_D2'] = starwarsdf['Rate_R2_D2'].value_counts()['VERY UNFAVORABLY']\n",
    "Unfavourable_response['Padme_Amidala'] = starwarsdf['Rate_Padme_Amidala'].value_counts()['VERY UNFAVORABLY']\n",
    "Unfavourable_response['Yoda'] = starwarsdf['Rate_Yoda'].value_counts()['VERY UNFAVORABLY']\n"
   ]
  },
  {
   "cell_type": "code",
   "execution_count": 83,
   "metadata": {},
   "outputs": [
    {
     "data": {
      "text/plain": [
       "{'Luke_Skywalker': 3,\n",
       " 'Han_Solo': 1,\n",
       " 'Princess_Leia_Organa': 6,\n",
       " 'Obi_Wan_Kenobi': 7,\n",
       " 'Emperor_Palpatine': 124,\n",
       " 'Darth_Vader': 149,\n",
       " 'Lando_Calrissian': 8,\n",
       " 'Boba_Fett': 45,\n",
       " 'C-3P0': 7,\n",
       " 'Jar_Binks': 204,\n",
       " 'R2_D2': 6,\n",
       " 'Padme_Amidala': 34,\n",
       " 'Yoda': 8}"
      ]
     },
     "execution_count": 83,
     "metadata": {},
     "output_type": "execute_result"
    }
   ],
   "source": [
    "Unfavourable_response"
   ]
  },
  {
   "cell_type": "code",
   "execution_count": 84,
   "metadata": {},
   "outputs": [],
   "source": [
    "Neutral_response ={}"
   ]
  },
  {
   "cell_type": "code",
   "execution_count": 85,
   "metadata": {},
   "outputs": [],
   "source": [
    "Neutral_response['Han_Solo'] = starwarsdf['Rate_Han_Solo'].value_counts()['NEITHER FAVORABLY NOR UNFAVORABLY (NEUTRAL)']\n",
    "Neutral_response['Luke_Skywalker'] = starwarsdf['Rate_Luke_Skywalker'].value_counts()['NEITHER FAVORABLY NOR UNFAVORABLY (NEUTRAL)']\n",
    "Neutral_response['Han_Solo'] = starwarsdf['Rate_Han_Solo'].value_counts()['NEITHER FAVORABLY NOR UNFAVORABLY (NEUTRAL)']\n",
    "Neutral_response['Princess_Leia_Organa'] = starwarsdf['Rate_Princess_Leia_Organa'].value_counts()['NEITHER FAVORABLY NOR UNFAVORABLY (NEUTRAL)']\n",
    "Neutral_response['Obi_Wan_Kenobi'] = starwarsdf['Rate_Obi_Wan_Kenobi'].value_counts()['NEITHER FAVORABLY NOR UNFAVORABLY (NEUTRAL)']\n",
    "Neutral_response['Emperor_Palpatine'] = starwarsdf['Rate_Emperor_Palpatine'].value_counts()['NEITHER FAVORABLY NOR UNFAVORABLY (NEUTRAL)']\n",
    "Neutral_response['Darth_Vader'] = starwarsdf['Rate_Darth_Vader'].value_counts()['NEITHER FAVORABLY NOR UNFAVORABLY (NEUTRAL)']\n",
    "Neutral_response['Lando_Calrissian'] = starwarsdf['Rate_Lando_Calrissian'].value_counts()['NEITHER FAVORABLY NOR UNFAVORABLY (NEUTRAL)']\n",
    "Neutral_response['Boba_Fett'] = starwarsdf['Rate_Boba_Fett'].value_counts()['NEITHER FAVORABLY NOR UNFAVORABLY (NEUTRAL)']\n",
    "\n",
    "Neutral_response['C-3P0'] = starwarsdf['Rate_C-3P0'].value_counts()['NEITHER FAVORABLY NOR UNFAVORABLY (NEUTRAL)']\n",
    "Neutral_response['Jar_Binks'] = starwarsdf['Rate_Jar_Binks'].value_counts()['NEITHER FAVORABLY NOR UNFAVORABLY (NEUTRAL)']\n",
    "Neutral_response['R2_D2'] = starwarsdf['Rate_R2_D2'].value_counts()['NEITHER FAVORABLY NOR UNFAVORABLY (NEUTRAL)']\n",
    "Neutral_response['Padme_Amidala'] = starwarsdf['Rate_Padme_Amidala'].value_counts()['NEITHER FAVORABLY NOR UNFAVORABLY (NEUTRAL)']\n",
    "Neutral_response['Yoda'] = starwarsdf['Rate_Yoda'].value_counts()['NEITHER FAVORABLY NOR UNFAVORABLY (NEUTRAL)']\n"
   ]
  },
  {
   "cell_type": "code",
   "execution_count": 86,
   "metadata": {},
   "outputs": [
    {
     "data": {
      "text/plain": [
       "{'Han_Solo': 44,\n",
       " 'Luke_Skywalker': 38,\n",
       " 'Princess_Leia_Organa': 48,\n",
       " 'Obi_Wan_Kenobi': 43,\n",
       " 'Emperor_Palpatine': 213,\n",
       " 'Darth_Vader': 84,\n",
       " 'Lando_Calrissian': 236,\n",
       " 'Boba_Fett': 248,\n",
       " 'C-3P0': 79,\n",
       " 'Jar_Binks': 164,\n",
       " 'R2_D2': 57,\n",
       " 'Padme_Amidala': 207,\n",
       " 'Yoda': 51}"
      ]
     },
     "execution_count": 86,
     "metadata": {},
     "output_type": "execute_result"
    }
   ],
   "source": [
    "Neutral_response"
   ]
  },
  {
   "cell_type": "code",
   "execution_count": 87,
   "metadata": {},
   "outputs": [
    {
     "name": "stdout",
     "output_type": "stream",
     "text": [
      "('Han_Solo', 'Yoda', 'Obi_Wan_Kenobi', 'R2_D2', 'Luke_Skywalker', 'Princess_Leia_Organa', 'C-3P0', 'Darth_Vader', 'Padme_Amidala', 'Lando_Calrissian', 'Boba_Fett', 'Jar_Binks', 'Emperor_Palpatine')\n",
      "(610, 605, 591, 562, 552, 547, 474, 310, 168, 142, 138, 112, 110)\n",
      "[ 0  1  2  3  4  5  6  7  8  9 10 11 12]\n"
     ]
    },
    {
     "data": {
      "text/plain": [
       "<BarContainer object of 13 artists>"
      ]
     },
     "execution_count": 87,
     "metadata": {},
     "output_type": "execute_result"
    },
    {
     "data": {
      "text/plain": [
       "([<matplotlib.axis.XTick at 0x2ef5eac2188>,\n",
       "  <matplotlib.axis.XTick at 0x2ef5d3721c8>,\n",
       "  <matplotlib.axis.XTick at 0x2ef5eab5c08>,\n",
       "  <matplotlib.axis.XTick at 0x2ef5eb04708>,\n",
       "  <matplotlib.axis.XTick at 0x2ef5eb0ba48>,\n",
       "  <matplotlib.axis.XTick at 0x2ef5eb081c8>,\n",
       "  <matplotlib.axis.XTick at 0x2ef5eb08608>,\n",
       "  <matplotlib.axis.XTick at 0x2ef5eb08ec8>,\n",
       "  <matplotlib.axis.XTick at 0x2ef5eb11488>,\n",
       "  <matplotlib.axis.XTick at 0x2ef5eb11e48>,\n",
       "  <matplotlib.axis.XTick at 0x2ef5eb17688>,\n",
       "  <matplotlib.axis.XTick at 0x2ef5eb08e48>,\n",
       "  <matplotlib.axis.XTick at 0x2ef5eb17f08>],\n",
       " <a list of 13 Text xticklabel objects>)"
      ]
     },
     "execution_count": 87,
     "metadata": {},
     "output_type": "execute_result"
    },
    {
     "data": {
      "text/plain": [
       "Text(0, 0.5, 'Number of ratings')"
      ]
     },
     "execution_count": 87,
     "metadata": {},
     "output_type": "execute_result"
    },
    {
     "data": {
      "text/plain": [
       "Text(0.5, 0, 'Character in movies')"
      ]
     },
     "execution_count": 87,
     "metadata": {},
     "output_type": "execute_result"
    },
    {
     "data": {
      "text/plain": [
       "Text(0.5, 1.0, 'Very Favorable Characters')"
      ]
     },
     "execution_count": 87,
     "metadata": {},
     "output_type": "execute_result"
    },
    {
     "data": {
      "image/png": "[encoded data removed]",
      "text/plain": [
       "<Figure size 432x288 with 1 Axes>"
      ]
     },
     "metadata": {
      "needs_background": "light"
     },
     "output_type": "display_data"
    }
   ],
   "source": [
    "lists = sorted(favorable_response.items(), key=lambda pg: pg[1], reverse=True)\n",
    "\n",
    "x, y = zip(*lists)\n",
    "print(x)\n",
    "print(y)\n",
    "\n",
    "y_pos = np.arange(len(x))\n",
    "print(y_pos)\n",
    "plt.bar(y_pos, y, align='center', color=['red'], alpha=0.5,label='Highly Favorable', edgecolor='blue')\n",
    "plt.xticks(y_pos, x,rotation=90)\n",
    "plt.ylabel('Number of ratings')\n",
    "plt.xlabel('Character in movies')\n",
    "\n",
    "plt.title('Very Favorable Characters')\n",
    "\n",
    "plt.show()"
   ]
  },
  {
   "cell_type": "code",
   "execution_count": 88,
   "metadata": {},
   "outputs": [
    {
     "name": "stdout",
     "output_type": "stream",
     "text": [
      "('Jar_Binks', 'Darth_Vader', 'Emperor_Palpatine', 'Boba_Fett', 'Padme_Amidala', 'Lando_Calrissian', 'Yoda', 'Obi_Wan_Kenobi', 'C-3P0', 'Princess_Leia_Organa', 'R2_D2', 'Luke_Skywalker', 'Han_Solo')\n",
      "(204, 149, 124, 45, 34, 8, 8, 7, 7, 6, 6, 3, 1)\n",
      "[ 0  1  2  3  4  5  6  7  8  9 10 11 12]\n"
     ]
    },
    {
     "data": {
      "text/plain": [
       "<BarContainer object of 13 artists>"
      ]
     },
     "execution_count": 88,
     "metadata": {},
     "output_type": "execute_result"
    },
    {
     "data": {
      "text/plain": [
       "([<matplotlib.axis.XTick at 0x2ef5eac3148>,\n",
       "  <matplotlib.axis.XTick at 0x2ef5eb4c0c8>,\n",
       "  <matplotlib.axis.XTick at 0x2ef5eb37648>,\n",
       "  <matplotlib.axis.XTick at 0x2ef5eb9b408>,\n",
       "  <matplotlib.axis.XTick at 0x2ef5eba04c8>,\n",
       "  <matplotlib.axis.XTick at 0x2ef5eba0848>,\n",
       "  <matplotlib.axis.XTick at 0x2ef5eba4048>,\n",
       "  <matplotlib.axis.XTick at 0x2ef5eba4b08>,\n",
       "  <matplotlib.axis.XTick at 0x2ef5eba8408>,\n",
       "  <matplotlib.axis.XTick at 0x2ef5eba8e88>,\n",
       "  <matplotlib.axis.XTick at 0x2ef5ebad948>,\n",
       "  <matplotlib.axis.XTick at 0x2ef5eba8d88>,\n",
       "  <matplotlib.axis.XTick at 0x2ef5eba0988>],\n",
       " <a list of 13 Text xticklabel objects>)"
      ]
     },
     "execution_count": 88,
     "metadata": {},
     "output_type": "execute_result"
    },
    {
     "data": {
      "text/plain": [
       "Text(0, 0.5, 'Number of ratings')"
      ]
     },
     "execution_count": 88,
     "metadata": {},
     "output_type": "execute_result"
    },
    {
     "data": {
      "text/plain": [
       "Text(0.5, 0, 'Character in movies')"
      ]
     },
     "execution_count": 88,
     "metadata": {},
     "output_type": "execute_result"
    },
    {
     "data": {
      "text/plain": [
       "Text(0.5, 1.0, 'Very Unfavorable Characters')"
      ]
     },
     "execution_count": 88,
     "metadata": {},
     "output_type": "execute_result"
    },
    {
     "data": {
      "image/png": "[encoded data removed]",
      "text/plain": [
       "<Figure size 432x288 with 1 Axes>"
      ]
     },
     "metadata": {
      "needs_background": "light"
     },
     "output_type": "display_data"
    }
   ],
   "source": [
    "lists = sorted(Unfavourable_response.items(), key=lambda pg: pg[1], reverse=True)\n",
    "\n",
    "x, y = zip(*lists)\n",
    "print(x)\n",
    "print(y)\n",
    "\n",
    "y_pos = np.arange(len(x))\n",
    "print(y_pos)\n",
    "plt.bar(y_pos, y, align='center', color=['blue'], alpha=0.5,label='Highly Unfavorable', edgecolor='green')\n",
    "plt.xticks(y_pos, x,rotation=90)\n",
    "plt.ylabel('Number of ratings')\n",
    "plt.xlabel('Character in movies')\n",
    "\n",
    "plt.title('Very Unfavorable Characters')\n",
    "\n",
    "plt.show()"
   ]
  },
  {
   "cell_type": "code",
   "execution_count": 89,
   "metadata": {},
   "outputs": [
    {
     "name": "stdout",
     "output_type": "stream",
     "text": [
      "('Boba_Fett', 'Lando_Calrissian', 'Emperor_Palpatine', 'Padme_Amidala', 'Jar_Binks', 'Darth_Vader', 'C-3P0', 'R2_D2', 'Yoda', 'Princess_Leia_Organa', 'Han_Solo', 'Obi_Wan_Kenobi', 'Luke_Skywalker')\n",
      "(248, 236, 213, 207, 164, 84, 79, 57, 51, 48, 44, 43, 38)\n",
      "[ 0  1  2  3  4  5  6  7  8  9 10 11 12]\n"
     ]
    },
    {
     "data": {
      "text/plain": [
       "<BarContainer object of 13 artists>"
      ]
     },
     "execution_count": 89,
     "metadata": {},
     "output_type": "execute_result"
    },
    {
     "data": {
      "text/plain": [
       "([<matplotlib.axis.XTick at 0x2ef5ea7d8c8>,\n",
       "  <matplotlib.axis.XTick at 0x2ef5ebe4f08>,\n",
       "  <matplotlib.axis.XTick at 0x2ef5ebe4a08>,\n",
       "  <matplotlib.axis.XTick at 0x2ef5ec392c8>,\n",
       "  <matplotlib.axis.XTick at 0x2ef5ec3f308>,\n",
       "  <matplotlib.axis.XTick at 0x2ef5ec3f688>,\n",
       "  <matplotlib.axis.XTick at 0x2ef5ec3fcc8>,\n",
       "  <matplotlib.axis.XTick at 0x2ef5ec42548>,\n",
       "  <matplotlib.axis.XTick at 0x2ef5ec42dc8>,\n",
       "  <matplotlib.axis.XTick at 0x2ef5ec46988>,\n",
       "  <matplotlib.axis.XTick at 0x2ef5ec4c448>,\n",
       "  <matplotlib.axis.XTick at 0x2ef5ec4cf08>,\n",
       "  <matplotlib.axis.XTick at 0x2ef5ec3f948>],\n",
       " <a list of 13 Text xticklabel objects>)"
      ]
     },
     "execution_count": 89,
     "metadata": {},
     "output_type": "execute_result"
    },
    {
     "data": {
      "text/plain": [
       "Text(0, 0.5, 'Number of ratings')"
      ]
     },
     "execution_count": 89,
     "metadata": {},
     "output_type": "execute_result"
    },
    {
     "data": {
      "text/plain": [
       "Text(0.5, 0, 'Character in movies')"
      ]
     },
     "execution_count": 89,
     "metadata": {},
     "output_type": "execute_result"
    },
    {
     "data": {
      "text/plain": [
       "Text(0.5, 1.0, 'Neutral Characters')"
      ]
     },
     "execution_count": 89,
     "metadata": {},
     "output_type": "execute_result"
    },
    {
     "data": {
      "image/png": "[encoded data removed]",
      "text/plain": [
       "<Figure size 432x288 with 1 Axes>"
      ]
     },
     "metadata": {
      "needs_background": "light"
     },
     "output_type": "display_data"
    }
   ],
   "source": [
    "lists = sorted(Neutral_response.items(), key=lambda pg: pg[1], reverse=True)\n",
    "\n",
    "x, y = zip(*lists)\n",
    "print(x)\n",
    "print(y)\n",
    "\n",
    "y_pos = np.arange(len(x))\n",
    "print(y_pos)\n",
    "plt.bar(y_pos, y, align='center', color=['black'], alpha=0.5,label='Highly Unfavorable', edgecolor='blue')\n",
    "plt.xticks(y_pos, x,rotation=90)\n",
    "plt.ylabel('Number of ratings')\n",
    "plt.xlabel('Character in movies')\n",
    "\n",
    "plt.title('Neutral Characters')\n",
    "\n",
    "plt.show()"
   ]
  },
  {
   "cell_type": "code",
   "execution_count": null,
   "metadata": {},
   "outputs": [],
   "source": []
  },
  {
   "cell_type": "code",
   "execution_count": null,
   "metadata": {},
   "outputs": [],
   "source": []
  }
 ],
 "metadata": {
  "kernelspec": {
   "display_name": "Python 3 (ipykernel)",
   "language": "python",
   "name": "python3"
  },
  "language_info": {
   "codemirror_mode": {
    "name": "ipython",
    "version": 3
   },
   "file_extension": ".py",
   "mimetype": "text/x-python",
   "name": "python",
   "nbconvert_exporter": "python",
   "pygments_lexer": "ipython3",
   "version": "3.9.7"
  }
 },
 "nbformat": 4,
 "nbformat_minor": 4
}
